{
 "cells": [
  {
   "cell_type": "code",
   "execution_count": 55,
   "metadata": {},
   "outputs": [],
   "source": [
    "import pandas as pd\n",
    "import numpy as np"
   ]
  },
  {
   "cell_type": "code",
   "execution_count": 49,
   "metadata": {},
   "outputs": [],
   "source": [
    "qqq = pd.read_csv('./NASDAQ Composite Historical Data.csv')[['Date','R']]\n",
    "tlt = pd.read_csv('./VUSTX.csv')[['Date','R']]"
   ]
  },
  {
   "cell_type": "code",
   "execution_count": null,
   "metadata": {},
   "outputs": [],
   "source": [
    "phase = 1(0,1,2,3) \n",
    "sellFee = 0.002\n",
    "buyFee = 0.002\n",
    "taxRate = 0.22\n",
    "taxSum = 0"
   ]
  },
  {
   "cell_type": "code",
   "execution_count": 50,
   "metadata": {},
   "outputs": [
    {
     "data": {
      "text/html": [
       "<div>\n",
       "<style scoped>\n",
       "    .dataframe tbody tr th:only-of-type {\n",
       "        vertical-align: middle;\n",
       "    }\n",
       "\n",
       "    .dataframe tbody tr th {\n",
       "        vertical-align: top;\n",
       "    }\n",
       "\n",
       "    .dataframe thead th {\n",
       "        text-align: right;\n",
       "    }\n",
       "</style>\n",
       "<table border=\"1\" class=\"dataframe\">\n",
       "  <thead>\n",
       "    <tr style=\"text-align: right;\">\n",
       "      <th></th>\n",
       "      <th>Date</th>\n",
       "      <th>R</th>\n",
       "    </tr>\n",
       "  </thead>\n",
       "  <tbody>\n",
       "    <tr>\n",
       "      <td>0</td>\n",
       "      <td>28-Feb-20</td>\n",
       "      <td>0.01%</td>\n",
       "    </tr>\n",
       "    <tr>\n",
       "      <td>1</td>\n",
       "      <td>27-Feb-20</td>\n",
       "      <td>-4.61%</td>\n",
       "    </tr>\n",
       "    <tr>\n",
       "      <td>2</td>\n",
       "      <td>26-Feb-20</td>\n",
       "      <td>0.17%</td>\n",
       "    </tr>\n",
       "    <tr>\n",
       "      <td>3</td>\n",
       "      <td>25-Feb-20</td>\n",
       "      <td>-2.77%</td>\n",
       "    </tr>\n",
       "    <tr>\n",
       "      <td>4</td>\n",
       "      <td>24-Feb-20</td>\n",
       "      <td>-3.71%</td>\n",
       "    </tr>\n",
       "  </tbody>\n",
       "</table>\n",
       "</div>"
      ],
      "text/plain": [
       "        Date       R\n",
       "0  28-Feb-20   0.01%\n",
       "1  27-Feb-20  -4.61%\n",
       "2  26-Feb-20   0.17%\n",
       "3  25-Feb-20  -2.77%\n",
       "4  24-Feb-20  -3.71%"
      ]
     },
     "execution_count": 50,
     "metadata": {},
     "output_type": "execute_result"
    }
   ],
   "source": [
    "qqq.head()"
   ]
  },
  {
   "cell_type": "code",
   "execution_count": 51,
   "metadata": {},
   "outputs": [
    {
     "data": {
      "text/html": [
       "<div>\n",
       "<style scoped>\n",
       "    .dataframe tbody tr th:only-of-type {\n",
       "        vertical-align: middle;\n",
       "    }\n",
       "\n",
       "    .dataframe tbody tr th {\n",
       "        vertical-align: top;\n",
       "    }\n",
       "\n",
       "    .dataframe thead th {\n",
       "        text-align: right;\n",
       "    }\n",
       "</style>\n",
       "<table border=\"1\" class=\"dataframe\">\n",
       "  <thead>\n",
       "    <tr style=\"text-align: right;\">\n",
       "      <th></th>\n",
       "      <th>Date</th>\n",
       "      <th>R</th>\n",
       "    </tr>\n",
       "  </thead>\n",
       "  <tbody>\n",
       "    <tr>\n",
       "      <td>0</td>\n",
       "      <td>1986-05-19</td>\n",
       "      <td>-0.200%</td>\n",
       "    </tr>\n",
       "    <tr>\n",
       "      <td>1</td>\n",
       "      <td>1986-05-20</td>\n",
       "      <td>-0.200%</td>\n",
       "    </tr>\n",
       "    <tr>\n",
       "      <td>2</td>\n",
       "      <td>1986-05-21</td>\n",
       "      <td>1.002%</td>\n",
       "    </tr>\n",
       "    <tr>\n",
       "      <td>3</td>\n",
       "      <td>1986-05-22</td>\n",
       "      <td>-0.198%</td>\n",
       "    </tr>\n",
       "    <tr>\n",
       "      <td>4</td>\n",
       "      <td>1986-05-23</td>\n",
       "      <td>0.199%</td>\n",
       "    </tr>\n",
       "  </tbody>\n",
       "</table>\n",
       "</div>"
      ],
      "text/plain": [
       "         Date        R\n",
       "0  1986-05-19  -0.200%\n",
       "1  1986-05-20  -0.200%\n",
       "2  1986-05-21   1.002%\n",
       "3  1986-05-22  -0.198%\n",
       "4  1986-05-23   0.199%"
      ]
     },
     "execution_count": 51,
     "metadata": {},
     "output_type": "execute_result"
    }
   ],
   "source": [
    "tlt.head()"
   ]
  },
  {
   "cell_type": "code",
   "execution_count": 52,
   "metadata": {},
   "outputs": [
    {
     "name": "stdout",
     "output_type": "stream",
     "text": [
      "<class 'pandas.core.frame.DataFrame'>\n",
      "RangeIndex: 8515 entries, 0 to 8514\n",
      "Data columns (total 2 columns):\n",
      "Date    8515 non-null object\n",
      "R       8515 non-null object\n",
      "dtypes: object(2)\n",
      "memory usage: 133.2+ KB\n"
     ]
    }
   ],
   "source": [
    "tlt.info()"
   ]
  },
  {
   "cell_type": "code",
   "execution_count": 53,
   "metadata": {},
   "outputs": [
    {
     "name": "stdout",
     "output_type": "stream",
     "text": [
      "<class 'pandas.core.frame.DataFrame'>\n",
      "RangeIndex: 5323 entries, 0 to 5322\n",
      "Data columns (total 2 columns):\n",
      "Date    5323 non-null object\n",
      "R       5323 non-null object\n",
      "dtypes: object(2)\n",
      "memory usage: 83.3+ KB\n"
     ]
    }
   ],
   "source": [
    "qqq.info()"
   ]
  },
  {
   "cell_type": "code",
   "execution_count": 74,
   "metadata": {},
   "outputs": [],
   "source": [
    "tlt['Date'] = pd.to_datetime(tlt['Date'])\n",
    "qqq['Date'] = pd.to_datetime(qqq['Date'])\n",
    "tlt['R'] = tlt['R'].str.replace('%','').astype(np.float64)\n",
    "qqq['R'] = qqq['R'].str.replace('%','').astype(np.float64)"
   ]
  },
  {
   "cell_type": "code",
   "execution_count": 75,
   "metadata": {},
   "outputs": [
    {
     "name": "stdout",
     "output_type": "stream",
     "text": [
      "<class 'pandas.core.frame.DataFrame'>\n",
      "RangeIndex: 8515 entries, 0 to 8514\n",
      "Data columns (total 2 columns):\n",
      "Date    8515 non-null datetime64[ns]\n",
      "R       8515 non-null float64\n",
      "dtypes: datetime64[ns](1), float64(1)\n",
      "memory usage: 133.2 KB\n",
      "<class 'pandas.core.frame.DataFrame'>\n",
      "RangeIndex: 5323 entries, 0 to 5322\n",
      "Data columns (total 2 columns):\n",
      "Date    5323 non-null datetime64[ns]\n",
      "R       5323 non-null float64\n",
      "dtypes: datetime64[ns](1), float64(1)\n",
      "memory usage: 83.3 KB\n"
     ]
    }
   ],
   "source": [
    "tlt.info()\n",
    "qqq.info()"
   ]
  },
  {
   "cell_type": "code",
   "execution_count": 76,
   "metadata": {},
   "outputs": [
    {
     "data": {
      "text/html": [
       "<div>\n",
       "<style scoped>\n",
       "    .dataframe tbody tr th:only-of-type {\n",
       "        vertical-align: middle;\n",
       "    }\n",
       "\n",
       "    .dataframe tbody tr th {\n",
       "        vertical-align: top;\n",
       "    }\n",
       "\n",
       "    .dataframe thead th {\n",
       "        text-align: right;\n",
       "    }\n",
       "</style>\n",
       "<table border=\"1\" class=\"dataframe\">\n",
       "  <thead>\n",
       "    <tr style=\"text-align: right;\">\n",
       "      <th></th>\n",
       "      <th>Date</th>\n",
       "      <th>R</th>\n",
       "    </tr>\n",
       "  </thead>\n",
       "  <tbody>\n",
       "    <tr>\n",
       "      <td>1565</td>\n",
       "      <td>2013-12-09</td>\n",
       "      <td>0.15</td>\n",
       "    </tr>\n",
       "    <tr>\n",
       "      <td>3243</td>\n",
       "      <td>2007-04-12</td>\n",
       "      <td>0.85</td>\n",
       "    </tr>\n",
       "    <tr>\n",
       "      <td>2057</td>\n",
       "      <td>2011-12-22</td>\n",
       "      <td>0.83</td>\n",
       "    </tr>\n",
       "    <tr>\n",
       "      <td>5021</td>\n",
       "      <td>2000-03-14</td>\n",
       "      <td>-4.09</td>\n",
       "    </tr>\n",
       "    <tr>\n",
       "      <td>1757</td>\n",
       "      <td>2013-03-07</td>\n",
       "      <td>0.30</td>\n",
       "    </tr>\n",
       "    <tr>\n",
       "      <td>642</td>\n",
       "      <td>2017-08-09</td>\n",
       "      <td>-0.28</td>\n",
       "    </tr>\n",
       "    <tr>\n",
       "      <td>3131</td>\n",
       "      <td>2007-09-20</td>\n",
       "      <td>-0.46</td>\n",
       "    </tr>\n",
       "    <tr>\n",
       "      <td>2729</td>\n",
       "      <td>2009-04-27</td>\n",
       "      <td>-0.88</td>\n",
       "    </tr>\n",
       "    <tr>\n",
       "      <td>4831</td>\n",
       "      <td>2000-12-12</td>\n",
       "      <td>-2.76</td>\n",
       "    </tr>\n",
       "    <tr>\n",
       "      <td>3407</td>\n",
       "      <td>2006-08-15</td>\n",
       "      <td>2.22</td>\n",
       "    </tr>\n",
       "  </tbody>\n",
       "</table>\n",
       "</div>"
      ],
      "text/plain": [
       "           Date     R\n",
       "1565 2013-12-09  0.15\n",
       "3243 2007-04-12  0.85\n",
       "2057 2011-12-22  0.83\n",
       "5021 2000-03-14 -4.09\n",
       "1757 2013-03-07  0.30\n",
       "642  2017-08-09 -0.28\n",
       "3131 2007-09-20 -0.46\n",
       "2729 2009-04-27 -0.88\n",
       "4831 2000-12-12 -2.76\n",
       "3407 2006-08-15  2.22"
      ]
     },
     "execution_count": 76,
     "metadata": {},
     "output_type": "execute_result"
    }
   ],
   "source": [
    "qqq.sample(10)"
   ]
  },
  {
   "cell_type": "code",
   "execution_count": 18,
   "metadata": {},
   "outputs": [
    {
     "data": {
      "text/plain": [
       "0       1986\n",
       "1       1986\n",
       "2       1986\n",
       "3       1986\n",
       "4       1986\n",
       "        ... \n",
       "8510    2020\n",
       "8511    2020\n",
       "8512    2020\n",
       "8513    2020\n",
       "8514    2020\n",
       "Name: Date, Length: 8515, dtype: int64"
      ]
     },
     "execution_count": 18,
     "metadata": {},
     "output_type": "execute_result"
    }
   ],
   "source": [
    "tlt['Date'].dt.year"
   ]
  },
  {
   "cell_type": "code",
   "execution_count": 19,
   "metadata": {},
   "outputs": [
    {
     "name": "stdout",
     "output_type": "stream",
     "text": [
      "<class 'pandas.core.frame.DataFrame'>\n",
      "RangeIndex: 5323 entries, 0 to 5322\n",
      "Data columns (total 7 columns):\n",
      "Date        5323 non-null datetime64[ns]\n",
      "Price       5323 non-null object\n",
      "Open        5323 non-null object\n",
      "High        5323 non-null object\n",
      "Low         5323 non-null object\n",
      "Vol.        5323 non-null object\n",
      "Change %    5323 non-null object\n",
      "dtypes: datetime64[ns](1), object(6)\n",
      "memory usage: 291.2+ KB\n"
     ]
    }
   ],
   "source": [
    "qqq['Date'] = pd.to_datetime(qqq['Date'])\n",
    "qqq.info()"
   ]
  },
  {
   "cell_type": "code",
   "execution_count": 21,
   "metadata": {},
   "outputs": [
    {
     "data": {
      "text/plain": [
       "0       2020\n",
       "1       2020\n",
       "2       2020\n",
       "3       2020\n",
       "4       2020\n",
       "        ... \n",
       "5318    1999\n",
       "5319    1999\n",
       "5320    1999\n",
       "5321    1999\n",
       "5322    1999\n",
       "Name: Date, Length: 5323, dtype: int64"
      ]
     },
     "execution_count": 21,
     "metadata": {},
     "output_type": "execute_result"
    }
   ],
   "source": [
    "qqq['Date'].dt.year"
   ]
  },
  {
   "cell_type": "code",
   "execution_count": 22,
   "metadata": {},
   "outputs": [],
   "source": [
    "qqq[\"Date_1m\"] = qqq[\"Date\"] + pd.DateOffset(months=1)"
   ]
  },
  {
   "cell_type": "code",
   "execution_count": 23,
   "metadata": {},
   "outputs": [
    {
     "data": {
      "text/html": [
       "<div>\n",
       "<style scoped>\n",
       "    .dataframe tbody tr th:only-of-type {\n",
       "        vertical-align: middle;\n",
       "    }\n",
       "\n",
       "    .dataframe tbody tr th {\n",
       "        vertical-align: top;\n",
       "    }\n",
       "\n",
       "    .dataframe thead th {\n",
       "        text-align: right;\n",
       "    }\n",
       "</style>\n",
       "<table border=\"1\" class=\"dataframe\">\n",
       "  <thead>\n",
       "    <tr style=\"text-align: right;\">\n",
       "      <th></th>\n",
       "      <th>Date</th>\n",
       "      <th>Price</th>\n",
       "      <th>Open</th>\n",
       "      <th>High</th>\n",
       "      <th>Low</th>\n",
       "      <th>Vol.</th>\n",
       "      <th>Change %</th>\n",
       "      <th>Date_1m</th>\n",
       "    </tr>\n",
       "  </thead>\n",
       "  <tbody>\n",
       "    <tr>\n",
       "      <td>count</td>\n",
       "      <td>5323</td>\n",
       "      <td>5323</td>\n",
       "      <td>5323</td>\n",
       "      <td>5323</td>\n",
       "      <td>5323</td>\n",
       "      <td>5323</td>\n",
       "      <td>5323</td>\n",
       "      <td>5323</td>\n",
       "    </tr>\n",
       "    <tr>\n",
       "      <td>unique</td>\n",
       "      <td>5323</td>\n",
       "      <td>5277</td>\n",
       "      <td>5272</td>\n",
       "      <td>5271</td>\n",
       "      <td>5285</td>\n",
       "      <td>3180</td>\n",
       "      <td>810</td>\n",
       "      <td>5240</td>\n",
       "    </tr>\n",
       "    <tr>\n",
       "      <td>top</td>\n",
       "      <td>2000-10-13 00:00:00</td>\n",
       "      <td>2,344.99</td>\n",
       "      <td>5,096.34</td>\n",
       "      <td>2,071.52</td>\n",
       "      <td>2,165.79</td>\n",
       "      <td>-</td>\n",
       "      <td>0.27%</td>\n",
       "      <td>2013-02-28 00:00:00</td>\n",
       "    </tr>\n",
       "    <tr>\n",
       "      <td>freq</td>\n",
       "      <td>1</td>\n",
       "      <td>2</td>\n",
       "      <td>2</td>\n",
       "      <td>2</td>\n",
       "      <td>2</td>\n",
       "      <td>1873</td>\n",
       "      <td>35</td>\n",
       "      <td>4</td>\n",
       "    </tr>\n",
       "    <tr>\n",
       "      <td>first</td>\n",
       "      <td>1999-01-04 00:00:00</td>\n",
       "      <td>NaN</td>\n",
       "      <td>NaN</td>\n",
       "      <td>NaN</td>\n",
       "      <td>NaN</td>\n",
       "      <td>NaN</td>\n",
       "      <td>NaN</td>\n",
       "      <td>1999-02-04 00:00:00</td>\n",
       "    </tr>\n",
       "    <tr>\n",
       "      <td>last</td>\n",
       "      <td>2020-02-28 00:00:00</td>\n",
       "      <td>NaN</td>\n",
       "      <td>NaN</td>\n",
       "      <td>NaN</td>\n",
       "      <td>NaN</td>\n",
       "      <td>NaN</td>\n",
       "      <td>NaN</td>\n",
       "      <td>2020-03-28 00:00:00</td>\n",
       "    </tr>\n",
       "  </tbody>\n",
       "</table>\n",
       "</div>"
      ],
      "text/plain": [
       "                       Date     Price      Open      High       Low  Vol.  \\\n",
       "count                  5323      5323      5323      5323      5323  5323   \n",
       "unique                 5323      5277      5272      5271      5285  3180   \n",
       "top     2000-10-13 00:00:00  2,344.99  5,096.34  2,071.52  2,165.79     -   \n",
       "freq                      1         2         2         2         2  1873   \n",
       "first   1999-01-04 00:00:00       NaN       NaN       NaN       NaN   NaN   \n",
       "last    2020-02-28 00:00:00       NaN       NaN       NaN       NaN   NaN   \n",
       "\n",
       "       Change %              Date_1m  \n",
       "count      5323                 5323  \n",
       "unique      810                 5240  \n",
       "top       0.27%  2013-02-28 00:00:00  \n",
       "freq         35                    4  \n",
       "first       NaN  1999-02-04 00:00:00  \n",
       "last        NaN  2020-03-28 00:00:00  "
      ]
     },
     "execution_count": 23,
     "metadata": {},
     "output_type": "execute_result"
    }
   ],
   "source": [
    "qqq.describe()"
   ]
  },
  {
   "cell_type": "code",
   "execution_count": 44,
   "metadata": {},
   "outputs": [
    {
     "data": {
      "text/html": [
       "<div>\n",
       "<style scoped>\n",
       "    .dataframe tbody tr th:only-of-type {\n",
       "        vertical-align: middle;\n",
       "    }\n",
       "\n",
       "    .dataframe tbody tr th {\n",
       "        vertical-align: top;\n",
       "    }\n",
       "\n",
       "    .dataframe thead th {\n",
       "        text-align: right;\n",
       "    }\n",
       "</style>\n",
       "<table border=\"1\" class=\"dataframe\">\n",
       "  <thead>\n",
       "    <tr style=\"text-align: right;\">\n",
       "      <th></th>\n",
       "      <th>Date</th>\n",
       "      <th>Price</th>\n",
       "      <th>Open</th>\n",
       "      <th>High</th>\n",
       "      <th>Low</th>\n",
       "      <th>Vol.</th>\n",
       "      <th>Change %</th>\n",
       "      <th>Date_1m</th>\n",
       "    </tr>\n",
       "  </thead>\n",
       "  <tbody>\n",
       "    <tr>\n",
       "      <td>1007</td>\n",
       "      <td>2016-02-29</td>\n",
       "      <td>4,557.95</td>\n",
       "      <td>4,585.30</td>\n",
       "      <td>4,619.90</td>\n",
       "      <td>4,557.46</td>\n",
       "      <td>565.97M</td>\n",
       "      <td>-0.71%</td>\n",
       "      <td>2016-03-29</td>\n",
       "    </tr>\n",
       "    <tr>\n",
       "      <td>2012</td>\n",
       "      <td>2012-02-29</td>\n",
       "      <td>2,966.89</td>\n",
       "      <td>2,991.67</td>\n",
       "      <td>3,000.11</td>\n",
       "      <td>2,961.77</td>\n",
       "      <td>598.32M</td>\n",
       "      <td>-0.67%</td>\n",
       "      <td>2012-03-29</td>\n",
       "    </tr>\n",
       "    <tr>\n",
       "      <td>3020</td>\n",
       "      <td>2008-02-29</td>\n",
       "      <td>2,271.48</td>\n",
       "      <td>2,309.06</td>\n",
       "      <td>2,311.23</td>\n",
       "      <td>2,264.97</td>\n",
       "      <td>1.10B</td>\n",
       "      <td>-2.58%</td>\n",
       "      <td>2008-03-29</td>\n",
       "    </tr>\n",
       "    <tr>\n",
       "      <td>5031</td>\n",
       "      <td>2000-02-29</td>\n",
       "      <td>4,696.69</td>\n",
       "      <td>4,646.64</td>\n",
       "      <td>4,698.46</td>\n",
       "      <td>4,637.17</td>\n",
       "      <td>-</td>\n",
       "      <td>2.60%</td>\n",
       "      <td>2000-03-29</td>\n",
       "    </tr>\n",
       "  </tbody>\n",
       "</table>\n",
       "</div>"
      ],
      "text/plain": [
       "           Date     Price      Open      High       Low     Vol. Change %  \\\n",
       "1007 2016-02-29  4,557.95  4,585.30  4,619.90  4,557.46  565.97M   -0.71%   \n",
       "2012 2012-02-29  2,966.89  2,991.67  3,000.11  2,961.77  598.32M   -0.67%   \n",
       "3020 2008-02-29  2,271.48  2,309.06  2,311.23  2,264.97    1.10B   -2.58%   \n",
       "5031 2000-02-29  4,696.69  4,646.64  4,698.46  4,637.17        -    2.60%   \n",
       "\n",
       "        Date_1m  \n",
       "1007 2016-03-29  \n",
       "2012 2012-03-29  \n",
       "3020 2008-03-29  \n",
       "5031 2000-03-29  "
      ]
     },
     "execution_count": 44,
     "metadata": {},
     "output_type": "execute_result"
    }
   ],
   "source": [
    "qqq.loc[(qqq['Date'].dt.day == 29) & (qqq['Date'].dt.month == 2)]"
   ]
  },
  {
   "cell_type": "code",
   "execution_count": 36,
   "metadata": {},
   "outputs": [
    {
     "data": {
      "text/plain": [
       "0        True\n",
       "1       False\n",
       "2       False\n",
       "3       False\n",
       "4       False\n",
       "        ...  \n",
       "5318    False\n",
       "5319    False\n",
       "5320    False\n",
       "5321    False\n",
       "5322    False\n",
       "Name: Date, Length: 5323, dtype: bool"
      ]
     },
     "execution_count": 36,
     "metadata": {},
     "output_type": "execute_result"
    }
   ],
   "source": [
    "qqq['Date'].dt.day == 28"
   ]
  },
  {
   "cell_type": "markdown",
   "metadata": {},
   "source": [
    "### 기본설정\n",
    "1. 시작일 선정(양쪽다 데이터가 있는 최소값)\n",
    "2. 변수리스트\n",
    "-> tlt, qqq, result\n",
    "    result(date, phase, returnRate, balance, qqqPosition, tltPosition, taxSum, fee, maxBalance, drawdown)\n",
    "3. 상수(세팅값)리스트() 선언후 바뀌지 않는 변수\n",
    "->  phase = 1(0,1,2,3), \n",
    "    sellFee = 0.002, \n",
    "    buyFee = 0.002,\n",
    "    taxRate = 0.22,\n",
    "    taxSum = 0,\n",
    "    (phase0Cnt = 0, phase1Period = 1m, phase1ThresholdRate = 2, phase1QqqPosition = 1, phase1TltPosition = 0) \n",
    "    phase1Cnt = 1, phase1Period = 1m, phase1ThresholdRate = 2, phase1QqqPosition = 0.9, phase1TltPosition = 0.1,\n",
    "    phase2Cnt = 1, phase2Period = 1m, phase2ThresholdRate = 3, phase2QqqPosition = 0, phase2TltPosition = 1,\n",
    "    phase3Cnt = 4, phase3Period = 2m, phase3ThresholdRate = 3, phase3QqqPosition = 0, phase3TltPosition = 1"
   ]
  },
  {
   "cell_type": "code",
   "execution_count": null,
   "metadata": {},
   "outputs": [],
   "source": []
  }
 ],
 "metadata": {
  "kernelspec": {
   "display_name": "Python 3",
   "language": "python",
   "name": "python3"
  },
  "language_info": {
   "codemirror_mode": {
    "name": "ipython",
    "version": 3
   },
   "file_extension": ".py",
   "mimetype": "text/x-python",
   "name": "python",
   "nbconvert_exporter": "python",
   "pygments_lexer": "ipython3",
   "version": "3.7.4"
  }
 },
 "nbformat": 4,
 "nbformat_minor": 4
}
