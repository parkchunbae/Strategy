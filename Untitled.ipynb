{
 "cells": [
  {
   "cell_type": "code",
   "execution_count": 1,
   "metadata": {},
   "outputs": [],
   "source": [
    "import pandas as pd\n",
    "import numpy as np"
   ]
  },
  {
   "cell_type": "code",
   "execution_count": 2,
   "metadata": {},
   "outputs": [],
   "source": [
    "qqq = pd.read_csv('./NASDAQ Composite Historical Data.csv')[['Date','R']]\n",
    "tlt = pd.read_csv('./VUSTX.csv')[['Date','R']]\n",
    "qqq['qqqR'] = qqq['R']\n",
    "tlt['tltR'] = tlt['R']"
   ]
  },
  {
   "cell_type": "code",
   "execution_count": 3,
   "metadata": {},
   "outputs": [],
   "source": [
    "tlt['Date'] = pd.to_datetime(tlt['Date'])\n",
    "qqq['Date'] = pd.to_datetime(qqq['Date'])\n",
    "tlt['R'] = tlt['R'].str.replace('%','').astype(np.float64)\n",
    "qqq['R'] = qqq['R'].str.replace('%','').astype(np.float64)"
   ]
  },
  {
   "cell_type": "code",
   "execution_count": 4,
   "metadata": {},
   "outputs": [],
   "source": [
    "qqq['Date'] = pd.to_datetime(qqq['Date'])"
   ]
  },
  {
   "cell_type": "code",
   "execution_count": 5,
   "metadata": {},
   "outputs": [],
   "source": [
    "qqq[\"Date_1m\"] = qqq[\"Date\"] + pd.DateOffset(months=1)"
   ]
  },
  {
   "cell_type": "code",
   "execution_count": 6,
   "metadata": {},
   "outputs": [],
   "source": [
    "CONFIG = {\n",
    "\t'sellFee' : 0.002,\n",
    "    'buyFee' : 0.002,\n",
    "    'taxRate' : 0.22,\n",
    "\t'phaseList' : [\n",
    "\t\t{\n",
    "\t\t\t'phaseNum' : 1,\n",
    "\t\t\t'phaseCnt' : 1,\n",
    "            'phasePeriodNum' : 1,\n",
    "            'phasePeriodType' : 'm',\n",
    "            'phaseThresholdRate' : 2,\n",
    "            'phaseQqqPosition' : 0.1,\n",
    "            'phaseTltPosition' : 0.9\n",
    "\t\t},\n",
    "\t\t{\n",
    "\t\t\t'phaseNum' : 2,\n",
    "\t\t\t'phaseCnt' : 1,\n",
    "            'phasePeriodNum' : 1,\n",
    "            'phasePeriodType' : 'm',\n",
    "            'phaseThresholdRate' : 3,\n",
    "            'phaseQqqPosition' : 0,\n",
    "            'phaseTltPosition' : 1\n",
    "\t\t},\n",
    "        {\n",
    "            'phaseNum' : 3,\n",
    "            'phaseCnt' : 4,\n",
    "            'phasePeriodNum' : 2,\n",
    "            'phasePeriodType' : 'm',\n",
    "            'phaseThresholdRate' : 3,\n",
    "            'phaseQqqPosition' : 0,\n",
    "            'phaseTltPosition' : 1\n",
    "        }\n",
    "\t]\n",
    "}"
   ]
  },
  {
   "cell_type": "code",
   "execution_count": 7,
   "metadata": {},
   "outputs": [],
   "source": [
    "# phase1\n",
    "# CONFIG['phaseList'][0]['phaseQqqPosition']*qqq['R'] + CONFIG['phaseList'][0]['phaseTltPosition']*tlt['R']\n",
    "\n",
    "qqqPosition1 = CONFIG['phaseList'][0]['phaseQqqPosition']\n",
    "tltPosition1 = CONFIG['phaseList'][0]['phaseTltPosition']\n",
    "\n",
    "# result = qqqPosition1 * qqq['R'] + tltPosition1 * tlt['R']\n",
    "dataSum =  pd.merge(qqq,tlt,how='outer', left_on='Date', right_on='Date')[['Date','Date_1m','qqqR','tltR']]\n",
    "# dataSum.loc[dataSum['Date'] >= qqq['Date'].min()].count()"
   ]
  },
  {
   "cell_type": "code",
   "execution_count": 8,
   "metadata": {},
   "outputs": [],
   "source": [
    "dataSum['qqqR'] = dataSum['qqqR'].str.replace('%','').astype(np.float64)\n",
    "dataSum['tltR'] = dataSum['tltR'].str.replace('%','').astype(np.float64)"
   ]
  },
  {
   "cell_type": "code",
   "execution_count": 9,
   "metadata": {},
   "outputs": [],
   "source": [
    "dataSum.loc[dataSum['qqqR'].isnull(), 'qqqR'] = 0\n",
    "dataSum.loc[dataSum['tltR'].isnull(), 'tltR'] = 0"
   ]
  },
  {
   "cell_type": "code",
   "execution_count": 10,
   "metadata": {},
   "outputs": [],
   "source": [
    "import random\n",
    "test1 = range(dataSum.shape[0])"
   ]
  },
  {
   "cell_type": "code",
   "execution_count": 11,
   "metadata": {},
   "outputs": [],
   "source": [
    "dataSum['phase'] = 0"
   ]
  },
  {
   "cell_type": "code",
   "execution_count": 31,
   "metadata": {},
   "outputs": [],
   "source": [
    "phase = []\n",
    "for i in test1:\n",
    "    dataSum['phase'].iloc[i] = int(random.random()*3)"
   ]
  },
  {
   "cell_type": "code",
   "execution_count": 32,
   "metadata": {},
   "outputs": [
    {
     "data": {
      "text/html": [
       "<div>\n",
       "<style scoped>\n",
       "    .dataframe tbody tr th:only-of-type {\n",
       "        vertical-align: middle;\n",
       "    }\n",
       "\n",
       "    .dataframe tbody tr th {\n",
       "        vertical-align: top;\n",
       "    }\n",
       "\n",
       "    .dataframe thead th {\n",
       "        text-align: right;\n",
       "    }\n",
       "</style>\n",
       "<table border=\"1\" class=\"dataframe\">\n",
       "  <thead>\n",
       "    <tr style=\"text-align: right;\">\n",
       "      <th></th>\n",
       "      <th>Date</th>\n",
       "      <th>Date_1m</th>\n",
       "      <th>qqqR</th>\n",
       "      <th>tltR</th>\n",
       "      <th>phase</th>\n",
       "    </tr>\n",
       "  </thead>\n",
       "  <tbody>\n",
       "    <tr>\n",
       "      <td>0</td>\n",
       "      <td>2020-02-28</td>\n",
       "      <td>2020-03-28</td>\n",
       "      <td>0.01</td>\n",
       "      <td>2.257</td>\n",
       "      <td>1</td>\n",
       "    </tr>\n",
       "    <tr>\n",
       "      <td>1</td>\n",
       "      <td>2020-02-27</td>\n",
       "      <td>2020-03-27</td>\n",
       "      <td>-4.61</td>\n",
       "      <td>0.967</td>\n",
       "      <td>2</td>\n",
       "    </tr>\n",
       "    <tr>\n",
       "      <td>2</td>\n",
       "      <td>2020-02-26</td>\n",
       "      <td>2020-03-26</td>\n",
       "      <td>0.17</td>\n",
       "      <td>-0.549</td>\n",
       "      <td>0</td>\n",
       "    </tr>\n",
       "    <tr>\n",
       "      <td>3</td>\n",
       "      <td>2020-02-25</td>\n",
       "      <td>2020-03-25</td>\n",
       "      <td>-2.77</td>\n",
       "      <td>0.622</td>\n",
       "      <td>1</td>\n",
       "    </tr>\n",
       "    <tr>\n",
       "      <td>4</td>\n",
       "      <td>2020-02-24</td>\n",
       "      <td>2020-03-24</td>\n",
       "      <td>-3.71</td>\n",
       "      <td>1.473</td>\n",
       "      <td>2</td>\n",
       "    </tr>\n",
       "    <tr>\n",
       "      <td>...</td>\n",
       "      <td>...</td>\n",
       "      <td>...</td>\n",
       "      <td>...</td>\n",
       "      <td>...</td>\n",
       "      <td>...</td>\n",
       "    </tr>\n",
       "    <tr>\n",
       "      <td>8510</td>\n",
       "      <td>1998-12-24</td>\n",
       "      <td>NaT</td>\n",
       "      <td>0.00</td>\n",
       "      <td>-0.267</td>\n",
       "      <td>2</td>\n",
       "    </tr>\n",
       "    <tr>\n",
       "      <td>8511</td>\n",
       "      <td>1998-12-28</td>\n",
       "      <td>NaT</td>\n",
       "      <td>0.00</td>\n",
       "      <td>0.715</td>\n",
       "      <td>1</td>\n",
       "    </tr>\n",
       "    <tr>\n",
       "      <td>8512</td>\n",
       "      <td>1998-12-29</td>\n",
       "      <td>NaT</td>\n",
       "      <td>0.00</td>\n",
       "      <td>0.444</td>\n",
       "      <td>2</td>\n",
       "    </tr>\n",
       "    <tr>\n",
       "      <td>8513</td>\n",
       "      <td>1998-12-30</td>\n",
       "      <td>NaT</td>\n",
       "      <td>0.00</td>\n",
       "      <td>0.353</td>\n",
       "      <td>2</td>\n",
       "    </tr>\n",
       "    <tr>\n",
       "      <td>8514</td>\n",
       "      <td>1998-12-31</td>\n",
       "      <td>NaT</td>\n",
       "      <td>0.00</td>\n",
       "      <td>0.460</td>\n",
       "      <td>2</td>\n",
       "    </tr>\n",
       "  </tbody>\n",
       "</table>\n",
       "<p>8515 rows × 5 columns</p>\n",
       "</div>"
      ],
      "text/plain": [
       "           Date    Date_1m  qqqR   tltR  phase\n",
       "0    2020-02-28 2020-03-28  0.01  2.257      1\n",
       "1    2020-02-27 2020-03-27 -4.61  0.967      2\n",
       "2    2020-02-26 2020-03-26  0.17 -0.549      0\n",
       "3    2020-02-25 2020-03-25 -2.77  0.622      1\n",
       "4    2020-02-24 2020-03-24 -3.71  1.473      2\n",
       "...         ...        ...   ...    ...    ...\n",
       "8510 1998-12-24        NaT  0.00 -0.267      2\n",
       "8511 1998-12-28        NaT  0.00  0.715      1\n",
       "8512 1998-12-29        NaT  0.00  0.444      2\n",
       "8513 1998-12-30        NaT  0.00  0.353      2\n",
       "8514 1998-12-31        NaT  0.00  0.460      2\n",
       "\n",
       "[8515 rows x 5 columns]"
      ]
     },
     "execution_count": 32,
     "metadata": {},
     "output_type": "execute_result"
    }
   ],
   "source": [
    "dataSum"
   ]
  },
  {
   "cell_type": "code",
   "execution_count": 43,
   "metadata": {},
   "outputs": [
    {
     "ename": "SyntaxError",
     "evalue": "invalid syntax (<ipython-input-43-631b4465f623>, line 3)",
     "output_type": "error",
     "traceback": [
      "\u001b[1;36m  File \u001b[1;32m\"<ipython-input-43-631b4465f623>\"\u001b[1;36m, line \u001b[1;32m3\u001b[0m\n\u001b[1;33m    for j in CONFIG['phaseList']:\u001b[0m\n\u001b[1;37m      ^\u001b[0m\n\u001b[1;31mSyntaxError\u001b[0m\u001b[1;31m:\u001b[0m invalid syntax\n"
     ]
    }
   ],
   "source": [
    "for i in dataSum['phase']:\n",
    "    [\n",
    "    for i in CONFIG['phaseList']:\n",
    "        if phase == i:\n",
    "            dataSum['choiceRate'].loc(i) = phaseQqqPosition * dataSum['qqqR'] + phaseTltPosition * dataSum['tltR']\n",
    "    ]"
   ]
  },
  {
   "cell_type": "code",
   "execution_count": 44,
   "metadata": {},
   "outputs": [
    {
     "ename": "SyntaxError",
     "evalue": "can't assign to function call (<ipython-input-44-57c40e5eccc9>, line 3)",
     "output_type": "error",
     "traceback": [
      "\u001b[1;36m  File \u001b[1;32m\"<ipython-input-44-57c40e5eccc9>\"\u001b[1;36m, line \u001b[1;32m3\u001b[0m\n\u001b[1;33m    dataSum['choiceRate'].loc(i) = phaseQqqPosition * dataSum['qqqR'] + phaseTltPosition * dataSum['tltR']\u001b[0m\n\u001b[1;37m    ^\u001b[0m\n\u001b[1;31mSyntaxError\u001b[0m\u001b[1;31m:\u001b[0m can't assign to function call\n"
     ]
    }
   ],
   "source": [
    "for i in CONFIG['phaseList']:\n",
    "        if phase == i:\n",
    "            dataSum['choiceRate'].loc(i) = phaseQqqPosition * dataSum['qqqR'] + phaseTltPosition * dataSum['tltR']"
   ]
  },
  {
   "cell_type": "code",
   "execution_count": null,
   "metadata": {},
   "outputs": [],
   "source": []
  }
 ],
 "metadata": {
  "kernelspec": {
   "display_name": "Python 3",
   "language": "python",
   "name": "python3"
  },
  "language_info": {
   "codemirror_mode": {
    "name": "ipython",
    "version": 3
   },
   "file_extension": ".py",
   "mimetype": "text/x-python",
   "name": "python",
   "nbconvert_exporter": "python",
   "pygments_lexer": "ipython3",
   "version": "3.7.4"
  }
 },
 "nbformat": 4,
 "nbformat_minor": 4
}
