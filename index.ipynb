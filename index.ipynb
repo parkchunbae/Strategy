{
 "cells": [
  {
   "cell_type": "code",
   "execution_count": 20,
   "metadata": {},
   "outputs": [],
   "source": [
    "import pandas as pd\n",
    "import numpy as np"
   ]
  },
  {
   "cell_type": "code",
   "execution_count": 21,
   "metadata": {},
   "outputs": [],
   "source": [
    "qqq = pd.read_csv('./NASDAQ Composite Historical Data.csv')[['Date','R']]\n",
    "tlt = pd.read_csv('./VUSTX.csv')[['Date','R']]"
   ]
  },
  {
   "cell_type": "code",
   "execution_count": 22,
   "metadata": {},
   "outputs": [
    {
     "ename": "TypeError",
     "evalue": "'int' object is not callable",
     "output_type": "error",
     "traceback": [
      "\u001b[1;31m---------------------------------------------------------------------------\u001b[0m",
      "\u001b[1;31mTypeError\u001b[0m                                 Traceback (most recent call last)",
      "\u001b[1;32m<ipython-input-22-3ba45c315c83>\u001b[0m in \u001b[0;36m<module>\u001b[1;34m\u001b[0m\n\u001b[1;32m----> 1\u001b[1;33m \u001b[0mphase\u001b[0m \u001b[1;33m=\u001b[0m \u001b[1;36m1\u001b[0m\u001b[1;33m(\u001b[0m\u001b[1;36m0\u001b[0m\u001b[1;33m,\u001b[0m\u001b[1;36m1\u001b[0m\u001b[1;33m,\u001b[0m\u001b[1;36m2\u001b[0m\u001b[1;33m,\u001b[0m\u001b[1;36m3\u001b[0m\u001b[1;33m)\u001b[0m\u001b[1;33m\u001b[0m\u001b[1;33m\u001b[0m\u001b[0m\n\u001b[0m\u001b[0;32m      2\u001b[0m \u001b[0msellFee\u001b[0m \u001b[1;33m=\u001b[0m \u001b[1;36m0.002\u001b[0m\u001b[1;33m\u001b[0m\u001b[1;33m\u001b[0m\u001b[0m\n\u001b[0;32m      3\u001b[0m \u001b[0mbuyFee\u001b[0m \u001b[1;33m=\u001b[0m \u001b[1;36m0.002\u001b[0m\u001b[1;33m\u001b[0m\u001b[1;33m\u001b[0m\u001b[0m\n\u001b[0;32m      4\u001b[0m \u001b[0mtaxRate\u001b[0m \u001b[1;33m=\u001b[0m \u001b[1;36m0.22\u001b[0m\u001b[1;33m\u001b[0m\u001b[1;33m\u001b[0m\u001b[0m\n\u001b[0;32m      5\u001b[0m \u001b[0mtaxSum\u001b[0m \u001b[1;33m=\u001b[0m \u001b[1;36m0\u001b[0m\u001b[1;33m\u001b[0m\u001b[1;33m\u001b[0m\u001b[0m\n",
      "\u001b[1;31mTypeError\u001b[0m: 'int' object is not callable"
     ]
    }
   ],
   "source": [
    "phase = 1(0,1,2,3) \n",
    "sellFee = 0.002\n",
    "buyFee = 0.002\n",
    "taxRate = 0.22\n",
    "taxSum = 0"
   ]
  },
  {
   "cell_type": "code",
   "execution_count": 23,
   "metadata": {},
   "outputs": [
    {
     "data": {
      "text/html": [
       "<div>\n",
       "<style scoped>\n",
       "    .dataframe tbody tr th:only-of-type {\n",
       "        vertical-align: middle;\n",
       "    }\n",
       "\n",
       "    .dataframe tbody tr th {\n",
       "        vertical-align: top;\n",
       "    }\n",
       "\n",
       "    .dataframe thead th {\n",
       "        text-align: right;\n",
       "    }\n",
       "</style>\n",
       "<table border=\"1\" class=\"dataframe\">\n",
       "  <thead>\n",
       "    <tr style=\"text-align: right;\">\n",
       "      <th></th>\n",
       "      <th>Date</th>\n",
       "      <th>R</th>\n",
       "    </tr>\n",
       "  </thead>\n",
       "  <tbody>\n",
       "    <tr>\n",
       "      <td>0</td>\n",
       "      <td>28-Feb-20</td>\n",
       "      <td>0.01%</td>\n",
       "    </tr>\n",
       "    <tr>\n",
       "      <td>1</td>\n",
       "      <td>27-Feb-20</td>\n",
       "      <td>-4.61%</td>\n",
       "    </tr>\n",
       "    <tr>\n",
       "      <td>2</td>\n",
       "      <td>26-Feb-20</td>\n",
       "      <td>0.17%</td>\n",
       "    </tr>\n",
       "    <tr>\n",
       "      <td>3</td>\n",
       "      <td>25-Feb-20</td>\n",
       "      <td>-2.77%</td>\n",
       "    </tr>\n",
       "    <tr>\n",
       "      <td>4</td>\n",
       "      <td>24-Feb-20</td>\n",
       "      <td>-3.71%</td>\n",
       "    </tr>\n",
       "  </tbody>\n",
       "</table>\n",
       "</div>"
      ],
      "text/plain": [
       "        Date       R\n",
       "0  28-Feb-20   0.01%\n",
       "1  27-Feb-20  -4.61%\n",
       "2  26-Feb-20   0.17%\n",
       "3  25-Feb-20  -2.77%\n",
       "4  24-Feb-20  -3.71%"
      ]
     },
     "execution_count": 23,
     "metadata": {},
     "output_type": "execute_result"
    }
   ],
   "source": [
    "qqq.head()"
   ]
  },
  {
   "cell_type": "code",
   "execution_count": 24,
   "metadata": {},
   "outputs": [
    {
     "data": {
      "text/html": [
       "<div>\n",
       "<style scoped>\n",
       "    .dataframe tbody tr th:only-of-type {\n",
       "        vertical-align: middle;\n",
       "    }\n",
       "\n",
       "    .dataframe tbody tr th {\n",
       "        vertical-align: top;\n",
       "    }\n",
       "\n",
       "    .dataframe thead th {\n",
       "        text-align: right;\n",
       "    }\n",
       "</style>\n",
       "<table border=\"1\" class=\"dataframe\">\n",
       "  <thead>\n",
       "    <tr style=\"text-align: right;\">\n",
       "      <th></th>\n",
       "      <th>Date</th>\n",
       "      <th>R</th>\n",
       "    </tr>\n",
       "  </thead>\n",
       "  <tbody>\n",
       "    <tr>\n",
       "      <td>0</td>\n",
       "      <td>1986-05-19</td>\n",
       "      <td>-0.200%</td>\n",
       "    </tr>\n",
       "    <tr>\n",
       "      <td>1</td>\n",
       "      <td>1986-05-20</td>\n",
       "      <td>-0.200%</td>\n",
       "    </tr>\n",
       "    <tr>\n",
       "      <td>2</td>\n",
       "      <td>1986-05-21</td>\n",
       "      <td>1.002%</td>\n",
       "    </tr>\n",
       "    <tr>\n",
       "      <td>3</td>\n",
       "      <td>1986-05-22</td>\n",
       "      <td>-0.198%</td>\n",
       "    </tr>\n",
       "    <tr>\n",
       "      <td>4</td>\n",
       "      <td>1986-05-23</td>\n",
       "      <td>0.199%</td>\n",
       "    </tr>\n",
       "  </tbody>\n",
       "</table>\n",
       "</div>"
      ],
      "text/plain": [
       "         Date        R\n",
       "0  1986-05-19  -0.200%\n",
       "1  1986-05-20  -0.200%\n",
       "2  1986-05-21   1.002%\n",
       "3  1986-05-22  -0.198%\n",
       "4  1986-05-23   0.199%"
      ]
     },
     "execution_count": 24,
     "metadata": {},
     "output_type": "execute_result"
    }
   ],
   "source": [
    "tlt.head()"
   ]
  },
  {
   "cell_type": "code",
   "execution_count": 25,
   "metadata": {},
   "outputs": [
    {
     "name": "stdout",
     "output_type": "stream",
     "text": [
      "<class 'pandas.core.frame.DataFrame'>\n",
      "RangeIndex: 8515 entries, 0 to 8514\n",
      "Data columns (total 2 columns):\n",
      "Date    8515 non-null object\n",
      "R       8515 non-null object\n",
      "dtypes: object(2)\n",
      "memory usage: 133.2+ KB\n"
     ]
    }
   ],
   "source": [
    "tlt.info()"
   ]
  },
  {
   "cell_type": "code",
   "execution_count": 26,
   "metadata": {},
   "outputs": [
    {
     "name": "stdout",
     "output_type": "stream",
     "text": [
      "<class 'pandas.core.frame.DataFrame'>\n",
      "RangeIndex: 5323 entries, 0 to 5322\n",
      "Data columns (total 2 columns):\n",
      "Date    5323 non-null object\n",
      "R       5323 non-null object\n",
      "dtypes: object(2)\n",
      "memory usage: 83.3+ KB\n"
     ]
    }
   ],
   "source": [
    "qqq.info()"
   ]
  },
  {
   "cell_type": "code",
   "execution_count": 27,
   "metadata": {},
   "outputs": [],
   "source": [
    "tlt['Date'] = pd.to_datetime(tlt['Date'])\n",
    "qqq['Date'] = pd.to_datetime(qqq['Date'])\n",
    "tlt['R'] = tlt['R'].str.replace('%','').astype(np.float64)\n",
    "qqq['R'] = qqq['R'].str.replace('%','').astype(np.float64)"
   ]
  },
  {
   "cell_type": "code",
   "execution_count": 28,
   "metadata": {},
   "outputs": [
    {
     "name": "stdout",
     "output_type": "stream",
     "text": [
      "<class 'pandas.core.frame.DataFrame'>\n",
      "RangeIndex: 8515 entries, 0 to 8514\n",
      "Data columns (total 2 columns):\n",
      "Date    8515 non-null datetime64[ns]\n",
      "R       8515 non-null float64\n",
      "dtypes: datetime64[ns](1), float64(1)\n",
      "memory usage: 133.2 KB\n",
      "<class 'pandas.core.frame.DataFrame'>\n",
      "RangeIndex: 5323 entries, 0 to 5322\n",
      "Data columns (total 2 columns):\n",
      "Date    5323 non-null datetime64[ns]\n",
      "R       5323 non-null float64\n",
      "dtypes: datetime64[ns](1), float64(1)\n",
      "memory usage: 83.3 KB\n"
     ]
    }
   ],
   "source": [
    "tlt.info()\n",
    "qqq.info()"
   ]
  },
  {
   "cell_type": "code",
   "execution_count": 29,
   "metadata": {},
   "outputs": [
    {
     "data": {
      "text/html": [
       "<div>\n",
       "<style scoped>\n",
       "    .dataframe tbody tr th:only-of-type {\n",
       "        vertical-align: middle;\n",
       "    }\n",
       "\n",
       "    .dataframe tbody tr th {\n",
       "        vertical-align: top;\n",
       "    }\n",
       "\n",
       "    .dataframe thead th {\n",
       "        text-align: right;\n",
       "    }\n",
       "</style>\n",
       "<table border=\"1\" class=\"dataframe\">\n",
       "  <thead>\n",
       "    <tr style=\"text-align: right;\">\n",
       "      <th></th>\n",
       "      <th>Date</th>\n",
       "      <th>R</th>\n",
       "    </tr>\n",
       "  </thead>\n",
       "  <tbody>\n",
       "    <tr>\n",
       "      <td>260</td>\n",
       "      <td>2019-02-15</td>\n",
       "      <td>0.61</td>\n",
       "    </tr>\n",
       "    <tr>\n",
       "      <td>414</td>\n",
       "      <td>2018-07-06</td>\n",
       "      <td>1.34</td>\n",
       "    </tr>\n",
       "    <tr>\n",
       "      <td>718</td>\n",
       "      <td>2017-04-21</td>\n",
       "      <td>-0.11</td>\n",
       "    </tr>\n",
       "    <tr>\n",
       "      <td>887</td>\n",
       "      <td>2016-08-18</td>\n",
       "      <td>0.22</td>\n",
       "    </tr>\n",
       "    <tr>\n",
       "      <td>1225</td>\n",
       "      <td>2015-04-17</td>\n",
       "      <td>-1.52</td>\n",
       "    </tr>\n",
       "    <tr>\n",
       "      <td>479</td>\n",
       "      <td>2018-04-04</td>\n",
       "      <td>1.45</td>\n",
       "    </tr>\n",
       "    <tr>\n",
       "      <td>2320</td>\n",
       "      <td>2010-12-08</td>\n",
       "      <td>0.41</td>\n",
       "    </tr>\n",
       "    <tr>\n",
       "      <td>2122</td>\n",
       "      <td>2011-09-21</td>\n",
       "      <td>-2.01</td>\n",
       "    </tr>\n",
       "    <tr>\n",
       "      <td>1194</td>\n",
       "      <td>2015-06-02</td>\n",
       "      <td>-0.13</td>\n",
       "    </tr>\n",
       "    <tr>\n",
       "      <td>1810</td>\n",
       "      <td>2012-12-18</td>\n",
       "      <td>1.46</td>\n",
       "    </tr>\n",
       "  </tbody>\n",
       "</table>\n",
       "</div>"
      ],
      "text/plain": [
       "           Date     R\n",
       "260  2019-02-15  0.61\n",
       "414  2018-07-06  1.34\n",
       "718  2017-04-21 -0.11\n",
       "887  2016-08-18  0.22\n",
       "1225 2015-04-17 -1.52\n",
       "479  2018-04-04  1.45\n",
       "2320 2010-12-08  0.41\n",
       "2122 2011-09-21 -2.01\n",
       "1194 2015-06-02 -0.13\n",
       "1810 2012-12-18  1.46"
      ]
     },
     "execution_count": 29,
     "metadata": {},
     "output_type": "execute_result"
    }
   ],
   "source": [
    "qqq.sample(10)"
   ]
  },
  {
   "cell_type": "code",
   "execution_count": 30,
   "metadata": {},
   "outputs": [
    {
     "data": {
      "text/plain": [
       "0       1986\n",
       "1       1986\n",
       "2       1986\n",
       "3       1986\n",
       "4       1986\n",
       "        ... \n",
       "8510    2020\n",
       "8511    2020\n",
       "8512    2020\n",
       "8513    2020\n",
       "8514    2020\n",
       "Name: Date, Length: 8515, dtype: int64"
      ]
     },
     "execution_count": 30,
     "metadata": {},
     "output_type": "execute_result"
    }
   ],
   "source": [
    "tlt['Date'].dt.year"
   ]
  },
  {
   "cell_type": "code",
   "execution_count": 31,
   "metadata": {},
   "outputs": [
    {
     "name": "stdout",
     "output_type": "stream",
     "text": [
      "<class 'pandas.core.frame.DataFrame'>\n",
      "RangeIndex: 5323 entries, 0 to 5322\n",
      "Data columns (total 2 columns):\n",
      "Date    5323 non-null datetime64[ns]\n",
      "R       5323 non-null float64\n",
      "dtypes: datetime64[ns](1), float64(1)\n",
      "memory usage: 83.3 KB\n"
     ]
    }
   ],
   "source": [
    "qqq['Date'] = pd.to_datetime(qqq['Date'])\n",
    "qqq.info()"
   ]
  },
  {
   "cell_type": "code",
   "execution_count": 32,
   "metadata": {},
   "outputs": [
    {
     "data": {
      "text/plain": [
       "0       2020\n",
       "1       2020\n",
       "2       2020\n",
       "3       2020\n",
       "4       2020\n",
       "        ... \n",
       "5318    1999\n",
       "5319    1999\n",
       "5320    1999\n",
       "5321    1999\n",
       "5322    1999\n",
       "Name: Date, Length: 5323, dtype: int64"
      ]
     },
     "execution_count": 32,
     "metadata": {},
     "output_type": "execute_result"
    }
   ],
   "source": [
    "qqq['Date'].dt.year"
   ]
  },
  {
   "cell_type": "code",
   "execution_count": 33,
   "metadata": {},
   "outputs": [],
   "source": [
    "qqq[\"Date_1m\"] = qqq[\"Date\"] + pd.DateOffset(months=1)"
   ]
  },
  {
   "cell_type": "code",
   "execution_count": 34,
   "metadata": {},
   "outputs": [
    {
     "data": {
      "text/html": [
       "<div>\n",
       "<style scoped>\n",
       "    .dataframe tbody tr th:only-of-type {\n",
       "        vertical-align: middle;\n",
       "    }\n",
       "\n",
       "    .dataframe tbody tr th {\n",
       "        vertical-align: top;\n",
       "    }\n",
       "\n",
       "    .dataframe thead th {\n",
       "        text-align: right;\n",
       "    }\n",
       "</style>\n",
       "<table border=\"1\" class=\"dataframe\">\n",
       "  <thead>\n",
       "    <tr style=\"text-align: right;\">\n",
       "      <th></th>\n",
       "      <th>R</th>\n",
       "    </tr>\n",
       "  </thead>\n",
       "  <tbody>\n",
       "    <tr>\n",
       "      <td>count</td>\n",
       "      <td>5323.000000</td>\n",
       "    </tr>\n",
       "    <tr>\n",
       "      <td>mean</td>\n",
       "      <td>0.037900</td>\n",
       "    </tr>\n",
       "    <tr>\n",
       "      <td>std</td>\n",
       "      <td>1.568945</td>\n",
       "    </tr>\n",
       "    <tr>\n",
       "      <td>min</td>\n",
       "      <td>-9.670000</td>\n",
       "    </tr>\n",
       "    <tr>\n",
       "      <td>25%</td>\n",
       "      <td>-0.630000</td>\n",
       "    </tr>\n",
       "    <tr>\n",
       "      <td>50%</td>\n",
       "      <td>0.090000</td>\n",
       "    </tr>\n",
       "    <tr>\n",
       "      <td>75%</td>\n",
       "      <td>0.760000</td>\n",
       "    </tr>\n",
       "    <tr>\n",
       "      <td>max</td>\n",
       "      <td>14.170000</td>\n",
       "    </tr>\n",
       "  </tbody>\n",
       "</table>\n",
       "</div>"
      ],
      "text/plain": [
       "                 R\n",
       "count  5323.000000\n",
       "mean      0.037900\n",
       "std       1.568945\n",
       "min      -9.670000\n",
       "25%      -0.630000\n",
       "50%       0.090000\n",
       "75%       0.760000\n",
       "max      14.170000"
      ]
     },
     "execution_count": 34,
     "metadata": {},
     "output_type": "execute_result"
    }
   ],
   "source": [
    "qqq.describe()"
   ]
  },
  {
   "cell_type": "code",
   "execution_count": 35,
   "metadata": {},
   "outputs": [
    {
     "data": {
      "text/html": [
       "<div>\n",
       "<style scoped>\n",
       "    .dataframe tbody tr th:only-of-type {\n",
       "        vertical-align: middle;\n",
       "    }\n",
       "\n",
       "    .dataframe tbody tr th {\n",
       "        vertical-align: top;\n",
       "    }\n",
       "\n",
       "    .dataframe thead th {\n",
       "        text-align: right;\n",
       "    }\n",
       "</style>\n",
       "<table border=\"1\" class=\"dataframe\">\n",
       "  <thead>\n",
       "    <tr style=\"text-align: right;\">\n",
       "      <th></th>\n",
       "      <th>Date</th>\n",
       "      <th>R</th>\n",
       "      <th>Date_1m</th>\n",
       "    </tr>\n",
       "  </thead>\n",
       "  <tbody>\n",
       "    <tr>\n",
       "      <td>1007</td>\n",
       "      <td>2016-02-29</td>\n",
       "      <td>-0.71</td>\n",
       "      <td>2016-03-29</td>\n",
       "    </tr>\n",
       "    <tr>\n",
       "      <td>2012</td>\n",
       "      <td>2012-02-29</td>\n",
       "      <td>-0.67</td>\n",
       "      <td>2012-03-29</td>\n",
       "    </tr>\n",
       "    <tr>\n",
       "      <td>3020</td>\n",
       "      <td>2008-02-29</td>\n",
       "      <td>-2.58</td>\n",
       "      <td>2008-03-29</td>\n",
       "    </tr>\n",
       "    <tr>\n",
       "      <td>5031</td>\n",
       "      <td>2000-02-29</td>\n",
       "      <td>2.60</td>\n",
       "      <td>2000-03-29</td>\n",
       "    </tr>\n",
       "  </tbody>\n",
       "</table>\n",
       "</div>"
      ],
      "text/plain": [
       "           Date     R    Date_1m\n",
       "1007 2016-02-29 -0.71 2016-03-29\n",
       "2012 2012-02-29 -0.67 2012-03-29\n",
       "3020 2008-02-29 -2.58 2008-03-29\n",
       "5031 2000-02-29  2.60 2000-03-29"
      ]
     },
     "execution_count": 35,
     "metadata": {},
     "output_type": "execute_result"
    }
   ],
   "source": [
    "qqq.loc[(qqq['Date'].dt.day == 29) & (qqq['Date'].dt.month == 2)]"
   ]
  },
  {
   "cell_type": "code",
   "execution_count": 36,
   "metadata": {},
   "outputs": [
    {
     "data": {
      "text/plain": [
       "0        True\n",
       "1       False\n",
       "2       False\n",
       "3       False\n",
       "4       False\n",
       "        ...  \n",
       "5318    False\n",
       "5319    False\n",
       "5320    False\n",
       "5321    False\n",
       "5322    False\n",
       "Name: Date, Length: 5323, dtype: bool"
      ]
     },
     "execution_count": 36,
     "metadata": {},
     "output_type": "execute_result"
    }
   ],
   "source": [
    "qqq['Date'].dt.day == 28"
   ]
  },
  {
   "cell_type": "markdown",
   "metadata": {},
   "source": [
    "### 기본설정\n",
    "1. 시작일 선정(양쪽다 데이터가 있는 최소값)\n",
    "2. 변수리스트\n",
    "-> tlt, qqq, result\n",
    "    result(date, phase, returnRate, balance, qqqPosition, tltPosition, taxSum, fee, maxBalance, drawdown)\n",
    "3. 상수(세팅값)리스트() 선언후 바뀌지 않는 변수\n",
    "->  phase = 1(0,1,2,3), \n",
    "    sellFee = 0.002, \n",
    "    buyFee = 0.002,\n",
    "    taxRate = 0.22,\n",
    "    taxSum = 0,\n",
    "    (phase0Cnt = 0, phase1Period = 1m, phase1ThresholdRate = 2, phase1QqqPosition = 1, phase1TltPosition = 0) \n",
    "    phase1Cnt = 1, phase1Period = 1m, phase1ThresholdRate = 2, phase1QqqPosition = 0.9, phase1TltPosition = 0.1,\n",
    "    phase2Cnt = 1, phase2Period = 1m, phase2ThresholdRate = 3, phase2QqqPosition = 0, phase2TltPosition = 1,\n",
    "    phase3Cnt = 4, phase3Period = 2m, phase3ThresholdRate = 3, phase3QqqPosition = 0, phase3TltPosition = 1"
   ]
  },
  {
   "cell_type": "code",
   "execution_count": 39,
   "metadata": {},
   "outputs": [],
   "source": [
    "class phase:\n",
    "    def __init__(self, Num, Cnt, Period, ThresholdRate, QqqPosition, QltPosition):\n",
    "        self.Num = Num\n",
    "        self.Cnt = Cnt\n",
    "        self.Period = Period\n",
    "        self.ThresholdRate = ThresholdRate\n",
    "        self.QqqPosition = QqqPosition\n",
    "        self.TltPosition = TltPosition\n",
    "    "
   ]
  },
  {
   "cell_type": "code",
   "execution_count": 40,
   "metadata": {},
   "outputs": [],
   "source": [
    "class result:\n",
    "    def __init__(self, resultNum, date, phase, returnRate, balance, qqqPosition, tltPosition, taxSum, fee):\n",
    "        self.resiltNum = resultNum\n",
    "        self.date = date\n",
    "        self.phase = phase\n",
    "        self.returnRate = returnRate\n",
    "        self.balance = balance\n",
    "        self.qqqPosition = qqqPosition\n",
    "        self.tltPosition = tltPosition\n",
    "        self.taxSum = taxSum\n",
    "        self.fee = fee"
   ]
  },
  {
   "cell_type": "code",
   "execution_count": null,
   "metadata": {},
   "outputs": [],
   "source": [
    "CONFIG = {\n",
    "\tsellFee : '0.002',\n",
    "    buyFee : '0.002'\n",
    "    taxRate : '0.22'\n",
    "\n",
    "\n",
    "\tphaseList : [\n",
    "\t\t{\n",
    "\t\t\tphaseNum : 1,\n",
    "\t\t\tphaseCnt : 1,\n",
    "            phasePeriod : 1m,\n",
    "            phaseThresholdRate : 2,\n",
    "            phaseQqqPosition : 0.1,\n",
    "            phaseTltPosition : 0.9\n",
    "\t\t},\n",
    "\t\t{\n",
    "\t\t\tphaseNum : 2,\n",
    "\t\t\tphaseCnt : 1\n",
    "            phasePeriod : 1m,\n",
    "            phaseThresholdRate : 3,\n",
    "            phaseQqqPosition : 0,\n",
    "            phaseTltPosition : 1\n",
    "\t\t}\t\n",
    "        {\n",
    "            phaseNum : 3\n",
    "            phaseCnt : 4\n",
    "            phasePeriod : 2m,\n",
    "            phaseThresholdRate : 3,\n",
    "            phaseQqqPosition : 0,\n",
    "            phaseTltPosition : 1\n",
    "        }\n",
    "\t]\n",
    "}\n",
    "\n",
    "CONFIG['phaseList'][0]['phaseCnt']  1"
   ]
  },
  {
   "cell_type": "code",
   "execution_count": null,
   "metadata": {},
   "outputs": [],
   "source": []
  },
  {
   "cell_type": "code",
   "execution_count": null,
   "metadata": {},
   "outputs": [],
   "source": []
  }
 ],
 "metadata": {
  "kernelspec": {
   "display_name": "Python 3",
   "language": "python",
   "name": "python3"
  },
  "language_info": {
   "codemirror_mode": {
    "name": "ipython",
    "version": 3
   },
   "file_extension": ".py",
   "mimetype": "text/x-python",
   "name": "python",
   "nbconvert_exporter": "python",
   "pygments_lexer": "ipython3",
   "version": "3.7.4"
  }
 },
 "nbformat": 4,
 "nbformat_minor": 4
}
