{
 "cells": [
  {
   "cell_type": "code",
   "execution_count": 1,
   "metadata": {},
   "outputs": [],
   "source": [
    "import pandas as pd\n",
    "import numpy as np"
   ]
  },
  {
   "cell_type": "code",
   "execution_count": 2,
   "metadata": {},
   "outputs": [],
   "source": [
    "qqq = pd.read_csv('./NASDAQ Composite Historical Data.csv')[['Date','R']]\n",
    "tlt = pd.read_csv('./VUSTX.csv')[['Date','R']]\n",
    "qqq['qqqR'] = qqq['R']\n",
    "tlt['tltR'] = tlt['R']"
   ]
  },
  {
   "cell_type": "code",
   "execution_count": 3,
   "metadata": {},
   "outputs": [
    {
     "data": {
      "text/html": [
       "<div>\n",
       "<style scoped>\n",
       "    .dataframe tbody tr th:only-of-type {\n",
       "        vertical-align: middle;\n",
       "    }\n",
       "\n",
       "    .dataframe tbody tr th {\n",
       "        vertical-align: top;\n",
       "    }\n",
       "\n",
       "    .dataframe thead th {\n",
       "        text-align: right;\n",
       "    }\n",
       "</style>\n",
       "<table border=\"1\" class=\"dataframe\">\n",
       "  <thead>\n",
       "    <tr style=\"text-align: right;\">\n",
       "      <th></th>\n",
       "      <th>Date</th>\n",
       "      <th>R</th>\n",
       "      <th>qqqR</th>\n",
       "    </tr>\n",
       "  </thead>\n",
       "  <tbody>\n",
       "    <tr>\n",
       "      <td>0</td>\n",
       "      <td>28-Feb-20</td>\n",
       "      <td>0.01%</td>\n",
       "      <td>0.01%</td>\n",
       "    </tr>\n",
       "    <tr>\n",
       "      <td>1</td>\n",
       "      <td>27-Feb-20</td>\n",
       "      <td>-4.61%</td>\n",
       "      <td>-4.61%</td>\n",
       "    </tr>\n",
       "    <tr>\n",
       "      <td>2</td>\n",
       "      <td>26-Feb-20</td>\n",
       "      <td>0.17%</td>\n",
       "      <td>0.17%</td>\n",
       "    </tr>\n",
       "    <tr>\n",
       "      <td>3</td>\n",
       "      <td>25-Feb-20</td>\n",
       "      <td>-2.77%</td>\n",
       "      <td>-2.77%</td>\n",
       "    </tr>\n",
       "    <tr>\n",
       "      <td>4</td>\n",
       "      <td>24-Feb-20</td>\n",
       "      <td>-3.71%</td>\n",
       "      <td>-3.71%</td>\n",
       "    </tr>\n",
       "  </tbody>\n",
       "</table>\n",
       "</div>"
      ],
      "text/plain": [
       "        Date       R    qqqR\n",
       "0  28-Feb-20   0.01%   0.01%\n",
       "1  27-Feb-20  -4.61%  -4.61%\n",
       "2  26-Feb-20   0.17%   0.17%\n",
       "3  25-Feb-20  -2.77%  -2.77%\n",
       "4  24-Feb-20  -3.71%  -3.71%"
      ]
     },
     "execution_count": 3,
     "metadata": {},
     "output_type": "execute_result"
    }
   ],
   "source": [
    "qqq.head()"
   ]
  },
  {
   "cell_type": "code",
   "execution_count": 4,
   "metadata": {},
   "outputs": [
    {
     "data": {
      "text/html": [
       "<div>\n",
       "<style scoped>\n",
       "    .dataframe tbody tr th:only-of-type {\n",
       "        vertical-align: middle;\n",
       "    }\n",
       "\n",
       "    .dataframe tbody tr th {\n",
       "        vertical-align: top;\n",
       "    }\n",
       "\n",
       "    .dataframe thead th {\n",
       "        text-align: right;\n",
       "    }\n",
       "</style>\n",
       "<table border=\"1\" class=\"dataframe\">\n",
       "  <thead>\n",
       "    <tr style=\"text-align: right;\">\n",
       "      <th></th>\n",
       "      <th>Date</th>\n",
       "      <th>R</th>\n",
       "      <th>tltR</th>\n",
       "    </tr>\n",
       "  </thead>\n",
       "  <tbody>\n",
       "    <tr>\n",
       "      <td>0</td>\n",
       "      <td>1986-05-19</td>\n",
       "      <td>-0.200%</td>\n",
       "      <td>-0.200%</td>\n",
       "    </tr>\n",
       "    <tr>\n",
       "      <td>1</td>\n",
       "      <td>1986-05-20</td>\n",
       "      <td>-0.200%</td>\n",
       "      <td>-0.200%</td>\n",
       "    </tr>\n",
       "    <tr>\n",
       "      <td>2</td>\n",
       "      <td>1986-05-21</td>\n",
       "      <td>1.002%</td>\n",
       "      <td>1.002%</td>\n",
       "    </tr>\n",
       "    <tr>\n",
       "      <td>3</td>\n",
       "      <td>1986-05-22</td>\n",
       "      <td>-0.198%</td>\n",
       "      <td>-0.198%</td>\n",
       "    </tr>\n",
       "    <tr>\n",
       "      <td>4</td>\n",
       "      <td>1986-05-23</td>\n",
       "      <td>0.199%</td>\n",
       "      <td>0.199%</td>\n",
       "    </tr>\n",
       "  </tbody>\n",
       "</table>\n",
       "</div>"
      ],
      "text/plain": [
       "         Date        R     tltR\n",
       "0  1986-05-19  -0.200%  -0.200%\n",
       "1  1986-05-20  -0.200%  -0.200%\n",
       "2  1986-05-21   1.002%   1.002%\n",
       "3  1986-05-22  -0.198%  -0.198%\n",
       "4  1986-05-23   0.199%   0.199%"
      ]
     },
     "execution_count": 4,
     "metadata": {},
     "output_type": "execute_result"
    }
   ],
   "source": [
    "tlt.head()"
   ]
  },
  {
   "cell_type": "code",
   "execution_count": 5,
   "metadata": {},
   "outputs": [
    {
     "name": "stdout",
     "output_type": "stream",
     "text": [
      "<class 'pandas.core.frame.DataFrame'>\n",
      "RangeIndex: 8515 entries, 0 to 8514\n",
      "Data columns (total 3 columns):\n",
      "Date    8515 non-null object\n",
      "R       8515 non-null object\n",
      "tltR    8515 non-null object\n",
      "dtypes: object(3)\n",
      "memory usage: 199.7+ KB\n"
     ]
    }
   ],
   "source": [
    "tlt.info()"
   ]
  },
  {
   "cell_type": "code",
   "execution_count": 6,
   "metadata": {},
   "outputs": [
    {
     "name": "stdout",
     "output_type": "stream",
     "text": [
      "<class 'pandas.core.frame.DataFrame'>\n",
      "RangeIndex: 5323 entries, 0 to 5322\n",
      "Data columns (total 3 columns):\n",
      "Date    5323 non-null object\n",
      "R       5323 non-null object\n",
      "qqqR    5323 non-null object\n",
      "dtypes: object(3)\n",
      "memory usage: 124.9+ KB\n"
     ]
    }
   ],
   "source": [
    "qqq.info()"
   ]
  },
  {
   "cell_type": "code",
   "execution_count": 7,
   "metadata": {},
   "outputs": [],
   "source": [
    "tlt['Date'] = pd.to_datetime(tlt['Date'])\n",
    "qqq['Date'] = pd.to_datetime(qqq['Date'])\n",
    "tlt['R'] = tlt['R'].str.replace('%','').astype(np.float64)\n",
    "qqq['R'] = qqq['R'].str.replace('%','').astype(np.float64)"
   ]
  },
  {
   "cell_type": "code",
   "execution_count": 8,
   "metadata": {},
   "outputs": [
    {
     "name": "stdout",
     "output_type": "stream",
     "text": [
      "<class 'pandas.core.frame.DataFrame'>\n",
      "RangeIndex: 8515 entries, 0 to 8514\n",
      "Data columns (total 3 columns):\n",
      "Date    8515 non-null datetime64[ns]\n",
      "R       8515 non-null float64\n",
      "tltR    8515 non-null object\n",
      "dtypes: datetime64[ns](1), float64(1), object(1)\n",
      "memory usage: 199.7+ KB\n",
      "<class 'pandas.core.frame.DataFrame'>\n",
      "RangeIndex: 5323 entries, 0 to 5322\n",
      "Data columns (total 3 columns):\n",
      "Date    5323 non-null datetime64[ns]\n",
      "R       5323 non-null float64\n",
      "qqqR    5323 non-null object\n",
      "dtypes: datetime64[ns](1), float64(1), object(1)\n",
      "memory usage: 124.9+ KB\n"
     ]
    }
   ],
   "source": [
    "tlt.info()\n",
    "qqq.info()"
   ]
  },
  {
   "cell_type": "code",
   "execution_count": 9,
   "metadata": {},
   "outputs": [
    {
     "data": {
      "text/html": [
       "<div>\n",
       "<style scoped>\n",
       "    .dataframe tbody tr th:only-of-type {\n",
       "        vertical-align: middle;\n",
       "    }\n",
       "\n",
       "    .dataframe tbody tr th {\n",
       "        vertical-align: top;\n",
       "    }\n",
       "\n",
       "    .dataframe thead th {\n",
       "        text-align: right;\n",
       "    }\n",
       "</style>\n",
       "<table border=\"1\" class=\"dataframe\">\n",
       "  <thead>\n",
       "    <tr style=\"text-align: right;\">\n",
       "      <th></th>\n",
       "      <th>Date</th>\n",
       "      <th>R</th>\n",
       "      <th>qqqR</th>\n",
       "    </tr>\n",
       "  </thead>\n",
       "  <tbody>\n",
       "    <tr>\n",
       "      <td>1367</td>\n",
       "      <td>2014-09-23</td>\n",
       "      <td>-0.42</td>\n",
       "      <td>-0.42%</td>\n",
       "    </tr>\n",
       "    <tr>\n",
       "      <td>166</td>\n",
       "      <td>2019-07-02</td>\n",
       "      <td>0.22</td>\n",
       "      <td>0.22%</td>\n",
       "    </tr>\n",
       "    <tr>\n",
       "      <td>2296</td>\n",
       "      <td>2011-01-12</td>\n",
       "      <td>0.75</td>\n",
       "      <td>0.75%</td>\n",
       "    </tr>\n",
       "    <tr>\n",
       "      <td>2663</td>\n",
       "      <td>2009-07-30</td>\n",
       "      <td>0.84</td>\n",
       "      <td>0.84%</td>\n",
       "    </tr>\n",
       "    <tr>\n",
       "      <td>1667</td>\n",
       "      <td>2013-07-16</td>\n",
       "      <td>-0.25</td>\n",
       "      <td>-0.25%</td>\n",
       "    </tr>\n",
       "    <tr>\n",
       "      <td>275</td>\n",
       "      <td>2019-01-25</td>\n",
       "      <td>1.29</td>\n",
       "      <td>1.29%</td>\n",
       "    </tr>\n",
       "    <tr>\n",
       "      <td>4265</td>\n",
       "      <td>2003-03-20</td>\n",
       "      <td>0.41</td>\n",
       "      <td>0.41%</td>\n",
       "    </tr>\n",
       "    <tr>\n",
       "      <td>349</td>\n",
       "      <td>2018-10-08</td>\n",
       "      <td>-0.67</td>\n",
       "      <td>-0.67%</td>\n",
       "    </tr>\n",
       "    <tr>\n",
       "      <td>72</td>\n",
       "      <td>2019-11-13</td>\n",
       "      <td>-0.05</td>\n",
       "      <td>-0.05%</td>\n",
       "    </tr>\n",
       "    <tr>\n",
       "      <td>4698</td>\n",
       "      <td>2001-06-25</td>\n",
       "      <td>0.79</td>\n",
       "      <td>0.79%</td>\n",
       "    </tr>\n",
       "  </tbody>\n",
       "</table>\n",
       "</div>"
      ],
      "text/plain": [
       "           Date     R    qqqR\n",
       "1367 2014-09-23 -0.42  -0.42%\n",
       "166  2019-07-02  0.22   0.22%\n",
       "2296 2011-01-12  0.75   0.75%\n",
       "2663 2009-07-30  0.84   0.84%\n",
       "1667 2013-07-16 -0.25  -0.25%\n",
       "275  2019-01-25  1.29   1.29%\n",
       "4265 2003-03-20  0.41   0.41%\n",
       "349  2018-10-08 -0.67  -0.67%\n",
       "72   2019-11-13 -0.05  -0.05%\n",
       "4698 2001-06-25  0.79   0.79%"
      ]
     },
     "execution_count": 9,
     "metadata": {},
     "output_type": "execute_result"
    }
   ],
   "source": [
    "qqq.sample(10)"
   ]
  },
  {
   "cell_type": "code",
   "execution_count": 10,
   "metadata": {},
   "outputs": [
    {
     "data": {
      "text/plain": [
       "0       1986\n",
       "1       1986\n",
       "2       1986\n",
       "3       1986\n",
       "4       1986\n",
       "        ... \n",
       "8510    2020\n",
       "8511    2020\n",
       "8512    2020\n",
       "8513    2020\n",
       "8514    2020\n",
       "Name: Date, Length: 8515, dtype: int64"
      ]
     },
     "execution_count": 10,
     "metadata": {},
     "output_type": "execute_result"
    }
   ],
   "source": [
    "tlt['Date'].dt.year"
   ]
  },
  {
   "cell_type": "code",
   "execution_count": 11,
   "metadata": {},
   "outputs": [
    {
     "name": "stdout",
     "output_type": "stream",
     "text": [
      "<class 'pandas.core.frame.DataFrame'>\n",
      "RangeIndex: 5323 entries, 0 to 5322\n",
      "Data columns (total 3 columns):\n",
      "Date    5323 non-null datetime64[ns]\n",
      "R       5323 non-null float64\n",
      "qqqR    5323 non-null object\n",
      "dtypes: datetime64[ns](1), float64(1), object(1)\n",
      "memory usage: 124.9+ KB\n"
     ]
    }
   ],
   "source": [
    "qqq['Date'] = pd.to_datetime(qqq['Date'])\n",
    "qqq.info()"
   ]
  },
  {
   "cell_type": "code",
   "execution_count": 12,
   "metadata": {},
   "outputs": [
    {
     "data": {
      "text/plain": [
       "0       2020\n",
       "1       2020\n",
       "2       2020\n",
       "3       2020\n",
       "4       2020\n",
       "        ... \n",
       "5318    1999\n",
       "5319    1999\n",
       "5320    1999\n",
       "5321    1999\n",
       "5322    1999\n",
       "Name: Date, Length: 5323, dtype: int64"
      ]
     },
     "execution_count": 12,
     "metadata": {},
     "output_type": "execute_result"
    }
   ],
   "source": [
    "qqq['Date'].dt.year"
   ]
  },
  {
   "cell_type": "code",
   "execution_count": 13,
   "metadata": {},
   "outputs": [],
   "source": [
    "qqq[\"Date_1m\"] = qqq[\"Date\"] + pd.DateOffset(months=1)"
   ]
  },
  {
   "cell_type": "code",
   "execution_count": 61,
   "metadata": {},
   "outputs": [
    {
     "data": {
      "text/html": [
       "<div>\n",
       "<style scoped>\n",
       "    .dataframe tbody tr th:only-of-type {\n",
       "        vertical-align: middle;\n",
       "    }\n",
       "\n",
       "    .dataframe tbody tr th {\n",
       "        vertical-align: top;\n",
       "    }\n",
       "\n",
       "    .dataframe thead th {\n",
       "        text-align: right;\n",
       "    }\n",
       "</style>\n",
       "<table border=\"1\" class=\"dataframe\">\n",
       "  <thead>\n",
       "    <tr style=\"text-align: right;\">\n",
       "      <th></th>\n",
       "      <th>Date</th>\n",
       "      <th>R</th>\n",
       "      <th>qqqR</th>\n",
       "      <th>Date_1m</th>\n",
       "    </tr>\n",
       "  </thead>\n",
       "  <tbody>\n",
       "    <tr>\n",
       "      <td>0</td>\n",
       "      <td>2020-02-28</td>\n",
       "      <td>0.01</td>\n",
       "      <td>0.01%</td>\n",
       "      <td>2020-03-28</td>\n",
       "    </tr>\n",
       "    <tr>\n",
       "      <td>1</td>\n",
       "      <td>2020-02-27</td>\n",
       "      <td>-4.61</td>\n",
       "      <td>-4.61%</td>\n",
       "      <td>2020-03-27</td>\n",
       "    </tr>\n",
       "    <tr>\n",
       "      <td>2</td>\n",
       "      <td>2020-02-26</td>\n",
       "      <td>0.17</td>\n",
       "      <td>0.17%</td>\n",
       "      <td>2020-03-26</td>\n",
       "    </tr>\n",
       "    <tr>\n",
       "      <td>3</td>\n",
       "      <td>2020-02-25</td>\n",
       "      <td>-2.77</td>\n",
       "      <td>-2.77%</td>\n",
       "      <td>2020-03-25</td>\n",
       "    </tr>\n",
       "    <tr>\n",
       "      <td>4</td>\n",
       "      <td>2020-02-24</td>\n",
       "      <td>-3.71</td>\n",
       "      <td>-3.71%</td>\n",
       "      <td>2020-03-24</td>\n",
       "    </tr>\n",
       "    <tr>\n",
       "      <td>...</td>\n",
       "      <td>...</td>\n",
       "      <td>...</td>\n",
       "      <td>...</td>\n",
       "      <td>...</td>\n",
       "    </tr>\n",
       "    <tr>\n",
       "      <td>5318</td>\n",
       "      <td>1999-01-08</td>\n",
       "      <td>0.79</td>\n",
       "      <td>0.79%</td>\n",
       "      <td>1999-02-08</td>\n",
       "    </tr>\n",
       "    <tr>\n",
       "      <td>5319</td>\n",
       "      <td>1999-01-07</td>\n",
       "      <td>0.23</td>\n",
       "      <td>0.23%</td>\n",
       "      <td>1999-02-07</td>\n",
       "    </tr>\n",
       "    <tr>\n",
       "      <td>5320</td>\n",
       "      <td>1999-01-06</td>\n",
       "      <td>3.09</td>\n",
       "      <td>3.09%</td>\n",
       "      <td>1999-02-06</td>\n",
       "    </tr>\n",
       "    <tr>\n",
       "      <td>5321</td>\n",
       "      <td>1999-01-05</td>\n",
       "      <td>1.96</td>\n",
       "      <td>1.96%</td>\n",
       "      <td>1999-02-05</td>\n",
       "    </tr>\n",
       "    <tr>\n",
       "      <td>5322</td>\n",
       "      <td>1999-01-04</td>\n",
       "      <td>0.70</td>\n",
       "      <td>0.70%</td>\n",
       "      <td>1999-02-04</td>\n",
       "    </tr>\n",
       "  </tbody>\n",
       "</table>\n",
       "<p>5323 rows × 4 columns</p>\n",
       "</div>"
      ],
      "text/plain": [
       "           Date     R    qqqR    Date_1m\n",
       "0    2020-02-28  0.01   0.01% 2020-03-28\n",
       "1    2020-02-27 -4.61  -4.61% 2020-03-27\n",
       "2    2020-02-26  0.17   0.17% 2020-03-26\n",
       "3    2020-02-25 -2.77  -2.77% 2020-03-25\n",
       "4    2020-02-24 -3.71  -3.71% 2020-03-24\n",
       "...         ...   ...     ...        ...\n",
       "5318 1999-01-08  0.79   0.79% 1999-02-08\n",
       "5319 1999-01-07  0.23   0.23% 1999-02-07\n",
       "5320 1999-01-06  3.09   3.09% 1999-02-06\n",
       "5321 1999-01-05  1.96   1.96% 1999-02-05\n",
       "5322 1999-01-04  0.70   0.70% 1999-02-04\n",
       "\n",
       "[5323 rows x 4 columns]"
      ]
     },
     "execution_count": 61,
     "metadata": {},
     "output_type": "execute_result"
    }
   ],
   "source": [
    "qqq"
   ]
  },
  {
   "cell_type": "code",
   "execution_count": 14,
   "metadata": {},
   "outputs": [
    {
     "data": {
      "text/html": [
       "<div>\n",
       "<style scoped>\n",
       "    .dataframe tbody tr th:only-of-type {\n",
       "        vertical-align: middle;\n",
       "    }\n",
       "\n",
       "    .dataframe tbody tr th {\n",
       "        vertical-align: top;\n",
       "    }\n",
       "\n",
       "    .dataframe thead th {\n",
       "        text-align: right;\n",
       "    }\n",
       "</style>\n",
       "<table border=\"1\" class=\"dataframe\">\n",
       "  <thead>\n",
       "    <tr style=\"text-align: right;\">\n",
       "      <th></th>\n",
       "      <th>R</th>\n",
       "    </tr>\n",
       "  </thead>\n",
       "  <tbody>\n",
       "    <tr>\n",
       "      <td>count</td>\n",
       "      <td>5323.000000</td>\n",
       "    </tr>\n",
       "    <tr>\n",
       "      <td>mean</td>\n",
       "      <td>0.037900</td>\n",
       "    </tr>\n",
       "    <tr>\n",
       "      <td>std</td>\n",
       "      <td>1.568945</td>\n",
       "    </tr>\n",
       "    <tr>\n",
       "      <td>min</td>\n",
       "      <td>-9.670000</td>\n",
       "    </tr>\n",
       "    <tr>\n",
       "      <td>25%</td>\n",
       "      <td>-0.630000</td>\n",
       "    </tr>\n",
       "    <tr>\n",
       "      <td>50%</td>\n",
       "      <td>0.090000</td>\n",
       "    </tr>\n",
       "    <tr>\n",
       "      <td>75%</td>\n",
       "      <td>0.760000</td>\n",
       "    </tr>\n",
       "    <tr>\n",
       "      <td>max</td>\n",
       "      <td>14.170000</td>\n",
       "    </tr>\n",
       "  </tbody>\n",
       "</table>\n",
       "</div>"
      ],
      "text/plain": [
       "                 R\n",
       "count  5323.000000\n",
       "mean      0.037900\n",
       "std       1.568945\n",
       "min      -9.670000\n",
       "25%      -0.630000\n",
       "50%       0.090000\n",
       "75%       0.760000\n",
       "max      14.170000"
      ]
     },
     "execution_count": 14,
     "metadata": {},
     "output_type": "execute_result"
    }
   ],
   "source": [
    "qqq.describe()"
   ]
  },
  {
   "cell_type": "code",
   "execution_count": 15,
   "metadata": {},
   "outputs": [
    {
     "data": {
      "text/html": [
       "<div>\n",
       "<style scoped>\n",
       "    .dataframe tbody tr th:only-of-type {\n",
       "        vertical-align: middle;\n",
       "    }\n",
       "\n",
       "    .dataframe tbody tr th {\n",
       "        vertical-align: top;\n",
       "    }\n",
       "\n",
       "    .dataframe thead th {\n",
       "        text-align: right;\n",
       "    }\n",
       "</style>\n",
       "<table border=\"1\" class=\"dataframe\">\n",
       "  <thead>\n",
       "    <tr style=\"text-align: right;\">\n",
       "      <th></th>\n",
       "      <th>Date</th>\n",
       "      <th>R</th>\n",
       "      <th>qqqR</th>\n",
       "      <th>Date_1m</th>\n",
       "    </tr>\n",
       "  </thead>\n",
       "  <tbody>\n",
       "    <tr>\n",
       "      <td>1007</td>\n",
       "      <td>2016-02-29</td>\n",
       "      <td>-0.71</td>\n",
       "      <td>-0.71%</td>\n",
       "      <td>2016-03-29</td>\n",
       "    </tr>\n",
       "    <tr>\n",
       "      <td>2012</td>\n",
       "      <td>2012-02-29</td>\n",
       "      <td>-0.67</td>\n",
       "      <td>-0.67%</td>\n",
       "      <td>2012-03-29</td>\n",
       "    </tr>\n",
       "    <tr>\n",
       "      <td>3020</td>\n",
       "      <td>2008-02-29</td>\n",
       "      <td>-2.58</td>\n",
       "      <td>-2.58%</td>\n",
       "      <td>2008-03-29</td>\n",
       "    </tr>\n",
       "    <tr>\n",
       "      <td>5031</td>\n",
       "      <td>2000-02-29</td>\n",
       "      <td>2.60</td>\n",
       "      <td>2.60%</td>\n",
       "      <td>2000-03-29</td>\n",
       "    </tr>\n",
       "  </tbody>\n",
       "</table>\n",
       "</div>"
      ],
      "text/plain": [
       "           Date     R    qqqR    Date_1m\n",
       "1007 2016-02-29 -0.71  -0.71% 2016-03-29\n",
       "2012 2012-02-29 -0.67  -0.67% 2012-03-29\n",
       "3020 2008-02-29 -2.58  -2.58% 2008-03-29\n",
       "5031 2000-02-29  2.60   2.60% 2000-03-29"
      ]
     },
     "execution_count": 15,
     "metadata": {},
     "output_type": "execute_result"
    }
   ],
   "source": [
    "qqq.loc[(qqq['Date'].dt.day == 29) & (qqq['Date'].dt.month == 2)]"
   ]
  },
  {
   "cell_type": "code",
   "execution_count": 16,
   "metadata": {},
   "outputs": [
    {
     "data": {
      "text/plain": [
       "0        True\n",
       "1       False\n",
       "2       False\n",
       "3       False\n",
       "4       False\n",
       "        ...  \n",
       "5318    False\n",
       "5319    False\n",
       "5320    False\n",
       "5321    False\n",
       "5322    False\n",
       "Name: Date, Length: 5323, dtype: bool"
      ]
     },
     "execution_count": 16,
     "metadata": {},
     "output_type": "execute_result"
    }
   ],
   "source": [
    "qqq['Date'].dt.day == 28"
   ]
  },
  {
   "cell_type": "markdown",
   "metadata": {},
   "source": [
    "### 기본설정\n",
    "1. 시작일 선정(양쪽다 데이터가 있는 최소값)\n",
    "2. 변수리스트\n",
    "-> tlt, qqq, result\n",
    "    result(date, phase, returnRate, balance, qqqPosition, tltPosition, taxSum, fee, maxBalance, drawdown)\n",
    "3. 상수(세팅값)리스트() 선언후 바뀌지 않는 변수\n",
    "->  phase = 1(0,1,2,3), \n",
    "    sellFee = 0.002, \n",
    "    buyFee = 0.002,\n",
    "    taxRate = 0.22,\n",
    "    taxSum = 0,\n",
    "    (phase0Cnt = 0, phase1Period = 1m, phase1ThresholdRate = 2, phase1QqqPosition = 1, phase1TltPosition = 0) \n",
    "    phase1Cnt = 1, phase1Period = 1m, phase1ThresholdRate = 2, phase1QqqPosition = 0.9, phase1TltPosition = 0.1,\n",
    "    phase2Cnt = 1, phase2Period = 1m, phase2ThresholdRate = 3, phase2QqqPosition = 0, phase2TltPosition = 1,\n",
    "    phase3Cnt = 4, phase3Period = 2m, phase3ThresholdRate = 3, phase3QqqPosition = 0, phase3TltPosition = 1"
   ]
  },
  {
   "cell_type": "code",
   "execution_count": 17,
   "metadata": {},
   "outputs": [],
   "source": [
    "class Phase:\n",
    "#     def __init__(self, num, cnt, period, thresholdRate, qqqPosition, tltPosition):\n",
    "#         self.num = num\n",
    "#         self.cnt = cnt\n",
    "#         self.period = period\n",
    "#         self.thresholdRate = thresholdRate\n",
    "#         self.qqqPosition = qqqPosition\n",
    "#         self.tltPosition = tltPosition\n",
    "    def __init__(self, num:str):\n",
    "        self.num = num\n",
    "    "
   ]
  },
  {
   "cell_type": "code",
   "execution_count": 18,
   "metadata": {},
   "outputs": [],
   "source": [
    "# class result:\n",
    "#     def __init__(self, resultNum, date, phase, returnRate, balance, qqqPosition, tltPosition, taxSum, fee):\n",
    "#         self.resiltNum = resultNum\n",
    "#         self.date = date\n",
    "#         self.phase = phase\n",
    "#         self.returnRate = returnRate\n",
    "#         self.balance = balance\n",
    "#         self.qqqPosition = qqqPosition\n",
    "#         self.tltPosition = tltPosition\n",
    "#         self.taxSum = taxSum\n",
    "#         self.fee = fee\n",
    "\n",
    "#     resiltNum\n",
    "#     date\n",
    "#     phase\n",
    "#     returnRate\n",
    "#     balance\n",
    "#     qqqPosition\n",
    "#     tltPosition\n",
    "#     taxSum\n",
    "#     fee\n",
    "        "
   ]
  },
  {
   "cell_type": "code",
   "execution_count": 19,
   "metadata": {},
   "outputs": [],
   "source": [
    "CONFIG = {\n",
    "    'test': Phase(5),\n",
    "\t'sellFee' : 0.002,\n",
    "    'buyFee' : 0.002,\n",
    "    'taxRate' : 0.22,\n",
    "\t'phaseList' : [\n",
    "\t\t{\n",
    "\t\t\t'phaseNum' : 1,\n",
    "\t\t\t'phaseCnt' : 1,\n",
    "            'phasePeriodNum' : 1,\n",
    "            'phasePeriodType' : 'm',\n",
    "            'phaseThresholdRate' : 2,\n",
    "            'phaseQqqPosition' : 0.1,\n",
    "            'phaseTltPosition' : 0.9\n",
    "\t\t},\n",
    "\t\t{\n",
    "\t\t\t'phaseNum' : 2,\n",
    "\t\t\t'phaseCnt' : 1,\n",
    "            'phasePeriodNum' : 1,\n",
    "            'phasePeriodType' : 'm',\n",
    "            'phaseThresholdRate' : 3,\n",
    "            'phaseQqqPosition' : 0,\n",
    "            'phaseTltPosition' : 1\n",
    "\t\t},\n",
    "        {\n",
    "            'phaseNum' : 3,\n",
    "            'phaseCnt' : 4,\n",
    "            'phasePeriodNum' : 2,\n",
    "            'phasePeriodType' : 'm',\n",
    "            'phaseThresholdRate' : 3,\n",
    "            'phaseQqqPosition' : 0,\n",
    "            'phaseTltPosition' : 1\n",
    "        }\n",
    "\t]\n",
    "}"
   ]
  },
  {
   "cell_type": "code",
   "execution_count": 20,
   "metadata": {},
   "outputs": [
    {
     "data": {
      "text/plain": [
       "25"
      ]
     },
     "execution_count": 20,
     "metadata": {},
     "output_type": "execute_result"
    }
   ],
   "source": [
    "type(CONFIG['test'])\n",
    "type(CONFIG['test'].num)\n",
    "CONFIG['test'].num * 5"
   ]
  },
  {
   "cell_type": "code",
   "execution_count": 21,
   "metadata": {},
   "outputs": [
    {
     "data": {
      "text/plain": [
       "0.004"
      ]
     },
     "execution_count": 21,
     "metadata": {},
     "output_type": "execute_result"
    }
   ],
   "source": [
    "CONFIG['sellFee'] * 2"
   ]
  },
  {
   "cell_type": "code",
   "execution_count": 22,
   "metadata": {},
   "outputs": [
    {
     "data": {
      "text/plain": [
       "list"
      ]
     },
     "execution_count": 22,
     "metadata": {},
     "output_type": "execute_result"
    }
   ],
   "source": [
    "type(CONFIG['phaseList'])"
   ]
  },
  {
   "cell_type": "code",
   "execution_count": 23,
   "metadata": {},
   "outputs": [
    {
     "data": {
      "text/plain": [
       "str"
      ]
     },
     "execution_count": 23,
     "metadata": {},
     "output_type": "execute_result"
    }
   ],
   "source": [
    "type('phaselist')"
   ]
  },
  {
   "cell_type": "code",
   "execution_count": 24,
   "metadata": {},
   "outputs": [
    {
     "name": "stdout",
     "output_type": "stream",
     "text": [
      "1\n",
      "2\n",
      "3\n",
      "end\n"
     ]
    }
   ],
   "source": [
    "for phase in CONFIG['phaseList']:\n",
    "    print(phase['phaseNum'])\n",
    "print('end')"
   ]
  },
  {
   "cell_type": "code",
   "execution_count": 25,
   "metadata": {},
   "outputs": [
    {
     "name": "stdout",
     "output_type": "stream",
     "text": [
      "p/\n",
      "h/\n",
      "a/\n",
      "s/\n",
      "e/\n",
      "l/\n",
      "i/\n",
      "s/\n",
      "t/\n"
     ]
    }
   ],
   "source": [
    "for i in 'phaselist':\n",
    "    print(i + '/');"
   ]
  },
  {
   "cell_type": "code",
   "execution_count": 26,
   "metadata": {},
   "outputs": [
    {
     "name": "stdout",
     "output_type": "stream",
     "text": [
      "3\n"
     ]
    }
   ],
   "source": [
    "print(3)"
   ]
  },
  {
   "cell_type": "code",
   "execution_count": 27,
   "metadata": {},
   "outputs": [
    {
     "name": "stdout",
     "output_type": "stream",
     "text": [
      "helloworld\n"
     ]
    }
   ],
   "source": [
    "print('hello world'.replace(' ', ''))\n",
    "    "
   ]
  },
  {
   "cell_type": "code",
   "execution_count": 28,
   "metadata": {},
   "outputs": [
    {
     "data": {
      "text/plain": [
       "Timestamp('1999-01-04 00:00:00')"
      ]
     },
     "execution_count": 28,
     "metadata": {},
     "output_type": "execute_result"
    }
   ],
   "source": [
    "# 1번\n",
    "qqq['Date'].min()"
   ]
  },
  {
   "cell_type": "code",
   "execution_count": 29,
   "metadata": {},
   "outputs": [
    {
     "data": {
      "text/plain": [
       "Timestamp('1986-05-19 00:00:00')"
      ]
     },
     "execution_count": 29,
     "metadata": {},
     "output_type": "execute_result"
    }
   ],
   "source": [
    "tlt['Date'].min()"
   ]
  },
  {
   "cell_type": "code",
   "execution_count": 30,
   "metadata": {},
   "outputs": [
    {
     "data": {
      "text/plain": [
       "14.17"
      ]
     },
     "execution_count": 30,
     "metadata": {},
     "output_type": "execute_result"
    }
   ],
   "source": [
    "# 2번\n",
    "qqq['R'].max()"
   ]
  },
  {
   "cell_type": "code",
   "execution_count": 31,
   "metadata": {},
   "outputs": [
    {
     "data": {
      "text/plain": [
       "-9.67"
      ]
     },
     "execution_count": 31,
     "metadata": {},
     "output_type": "execute_result"
    }
   ],
   "source": [
    "qqq['R'].min()"
   ]
  },
  {
   "cell_type": "code",
   "execution_count": 32,
   "metadata": {},
   "outputs": [
    {
     "data": {
      "text/plain": [
       "7.757"
      ]
     },
     "execution_count": 32,
     "metadata": {},
     "output_type": "execute_result"
    }
   ],
   "source": [
    "tlt['R'].max()"
   ]
  },
  {
   "cell_type": "code",
   "execution_count": 33,
   "metadata": {},
   "outputs": [
    {
     "data": {
      "text/plain": [
       "-5.689"
      ]
     },
     "execution_count": 33,
     "metadata": {},
     "output_type": "execute_result"
    }
   ],
   "source": [
    "tlt['R'].min()"
   ]
  },
  {
   "cell_type": "code",
   "execution_count": 34,
   "metadata": {},
   "outputs": [],
   "source": [
    "# 3번\n",
    "qqq2020 = qqq.loc[(qqq['Date'].dt.year == 2020)]\n",
    "tlt2020 = tlt.loc[(tlt['Date'].dt.year == 2020)]"
   ]
  },
  {
   "cell_type": "code",
   "execution_count": 35,
   "metadata": {},
   "outputs": [
    {
     "data": {
      "text/plain": [
       "-4.61"
      ]
     },
     "execution_count": 35,
     "metadata": {},
     "output_type": "execute_result"
    }
   ],
   "source": [
    "qqq.loc[qqq['Date'].dt.year == 2020, 'R'].min()\n",
    "# qqq.info()\n",
    "# qqq.head()"
   ]
  },
  {
   "cell_type": "code",
   "execution_count": 36,
   "metadata": {},
   "outputs": [
    {
     "data": {
      "text/plain": [
       "2.1"
      ]
     },
     "execution_count": 36,
     "metadata": {},
     "output_type": "execute_result"
    }
   ],
   "source": [
    "qqq2020['R'].max()"
   ]
  },
  {
   "cell_type": "code",
   "execution_count": 37,
   "metadata": {},
   "outputs": [
    {
     "data": {
      "text/plain": [
       "-4.61"
      ]
     },
     "execution_count": 37,
     "metadata": {},
     "output_type": "execute_result"
    }
   ],
   "source": [
    "qqq2020['R'].min()"
   ]
  },
  {
   "cell_type": "code",
   "execution_count": 38,
   "metadata": {},
   "outputs": [
    {
     "data": {
      "text/plain": [
       "2.257"
      ]
     },
     "execution_count": 38,
     "metadata": {},
     "output_type": "execute_result"
    }
   ],
   "source": [
    "tlt2020['R'].max()"
   ]
  },
  {
   "cell_type": "code",
   "execution_count": 39,
   "metadata": {},
   "outputs": [
    {
     "data": {
      "text/plain": [
       "-1.353"
      ]
     },
     "execution_count": 39,
     "metadata": {},
     "output_type": "execute_result"
    }
   ],
   "source": [
    "tlt2020['R'].min()"
   ]
  },
  {
   "cell_type": "code",
   "execution_count": 40,
   "metadata": {},
   "outputs": [
    {
     "data": {
      "text/plain": [
       "1.0"
      ]
     },
     "execution_count": 40,
     "metadata": {},
     "output_type": "execute_result"
    }
   ],
   "source": [
    "# 4번\n",
    "CONFIG['phaseList'][0]['phaseQqqPosition'] + CONFIG['phaseList'][0]['phaseTltPosition']\n"
   ]
  },
  {
   "cell_type": "code",
   "execution_count": 41,
   "metadata": {},
   "outputs": [
    {
     "name": "stdout",
     "output_type": "stream",
     "text": [
      "<class 'pandas.core.frame.DataFrame'>\n",
      "RangeIndex: 5323 entries, 0 to 5322\n",
      "Data columns (total 4 columns):\n",
      "Date       5323 non-null datetime64[ns]\n",
      "R          5323 non-null float64\n",
      "qqqR       5323 non-null object\n",
      "Date_1m    5323 non-null datetime64[ns]\n",
      "dtypes: datetime64[ns](2), float64(1), object(1)\n",
      "memory usage: 166.5+ KB\n",
      "<class 'pandas.core.frame.DataFrame'>\n",
      "RangeIndex: 8515 entries, 0 to 8514\n",
      "Data columns (total 3 columns):\n",
      "Date    8515 non-null datetime64[ns]\n",
      "R       8515 non-null float64\n",
      "tltR    8515 non-null object\n",
      "dtypes: datetime64[ns](1), float64(1), object(1)\n",
      "memory usage: 199.7+ KB\n"
     ]
    }
   ],
   "source": [
    "qqq.info()\n",
    "tlt.info()"
   ]
  },
  {
   "cell_type": "code",
   "execution_count": 42,
   "metadata": {},
   "outputs": [
    {
     "data": {
      "text/plain": [
       "Date       5323\n",
       "Date_1m    5323\n",
       "qqqR       5323\n",
       "tltR       5323\n",
       "dtype: int64"
      ]
     },
     "execution_count": 42,
     "metadata": {},
     "output_type": "execute_result"
    }
   ],
   "source": [
    "# phase1\n",
    "# CONFIG['phaseList'][0]['phaseQqqPosition']*qqq['R'] + CONFIG['phaseList'][0]['phaseTltPosition']*tlt['R']\n",
    "\n",
    "qqqPosition1 = CONFIG['phaseList'][0]['phaseQqqPosition']\n",
    "tltPosition1 = CONFIG['phaseList'][0]['phaseTltPosition']\n",
    "\n",
    "# result = qqqPosition1 * qqq['R'] + tltPosition1 * tlt['R']\n",
    "dataSum =  pd.merge(qqq,tlt,how='outer', left_on='Date', right_on='Date')[['Date','Date_1m','qqqR','tltR']]\n",
    "dataSum.loc[dataSum['Date'] >= qqq['Date'].min()].count()"
   ]
  },
  {
   "cell_type": "code",
   "execution_count": 43,
   "metadata": {},
   "outputs": [
    {
     "data": {
      "text/html": [
       "<div>\n",
       "<style scoped>\n",
       "    .dataframe tbody tr th:only-of-type {\n",
       "        vertical-align: middle;\n",
       "    }\n",
       "\n",
       "    .dataframe tbody tr th {\n",
       "        vertical-align: top;\n",
       "    }\n",
       "\n",
       "    .dataframe thead th {\n",
       "        text-align: right;\n",
       "    }\n",
       "</style>\n",
       "<table border=\"1\" class=\"dataframe\">\n",
       "  <thead>\n",
       "    <tr style=\"text-align: right;\">\n",
       "      <th></th>\n",
       "      <th>Date</th>\n",
       "      <th>Date_1m</th>\n",
       "      <th>qqqR</th>\n",
       "      <th>tltR</th>\n",
       "    </tr>\n",
       "  </thead>\n",
       "  <tbody>\n",
       "    <tr>\n",
       "      <td>0</td>\n",
       "      <td>2020-02-28</td>\n",
       "      <td>2020-03-28</td>\n",
       "      <td>0.01%</td>\n",
       "      <td>2.257%</td>\n",
       "    </tr>\n",
       "    <tr>\n",
       "      <td>1</td>\n",
       "      <td>2020-02-27</td>\n",
       "      <td>2020-03-27</td>\n",
       "      <td>-4.61%</td>\n",
       "      <td>0.967%</td>\n",
       "    </tr>\n",
       "    <tr>\n",
       "      <td>2</td>\n",
       "      <td>2020-02-26</td>\n",
       "      <td>2020-03-26</td>\n",
       "      <td>0.17%</td>\n",
       "      <td>-0.549%</td>\n",
       "    </tr>\n",
       "    <tr>\n",
       "      <td>3</td>\n",
       "      <td>2020-02-25</td>\n",
       "      <td>2020-03-25</td>\n",
       "      <td>-2.77%</td>\n",
       "      <td>0.622%</td>\n",
       "    </tr>\n",
       "    <tr>\n",
       "      <td>4</td>\n",
       "      <td>2020-02-24</td>\n",
       "      <td>2020-03-24</td>\n",
       "      <td>-3.71%</td>\n",
       "      <td>1.473%</td>\n",
       "    </tr>\n",
       "    <tr>\n",
       "      <td>...</td>\n",
       "      <td>...</td>\n",
       "      <td>...</td>\n",
       "      <td>...</td>\n",
       "      <td>...</td>\n",
       "    </tr>\n",
       "    <tr>\n",
       "      <td>5318</td>\n",
       "      <td>1999-01-08</td>\n",
       "      <td>1999-02-08</td>\n",
       "      <td>0.79%</td>\n",
       "      <td>-0.977%</td>\n",
       "    </tr>\n",
       "    <tr>\n",
       "      <td>5319</td>\n",
       "      <td>1999-01-07</td>\n",
       "      <td>1999-02-07</td>\n",
       "      <td>0.23%</td>\n",
       "      <td>-0.618%</td>\n",
       "    </tr>\n",
       "    <tr>\n",
       "      <td>5320</td>\n",
       "      <td>1999-01-06</td>\n",
       "      <td>1999-02-06</td>\n",
       "      <td>3.09%</td>\n",
       "      <td>0.532%</td>\n",
       "    </tr>\n",
       "    <tr>\n",
       "      <td>5321</td>\n",
       "      <td>1999-01-05</td>\n",
       "      <td>1999-02-05</td>\n",
       "      <td>1.96%</td>\n",
       "      <td>-0.442%</td>\n",
       "    </tr>\n",
       "    <tr>\n",
       "      <td>5322</td>\n",
       "      <td>1999-01-04</td>\n",
       "      <td>1999-02-04</td>\n",
       "      <td>0.70%</td>\n",
       "      <td>-0.352%</td>\n",
       "    </tr>\n",
       "  </tbody>\n",
       "</table>\n",
       "<p>5323 rows × 4 columns</p>\n",
       "</div>"
      ],
      "text/plain": [
       "           Date    Date_1m    qqqR     tltR\n",
       "0    2020-02-28 2020-03-28   0.01%   2.257%\n",
       "1    2020-02-27 2020-03-27  -4.61%   0.967%\n",
       "2    2020-02-26 2020-03-26   0.17%  -0.549%\n",
       "3    2020-02-25 2020-03-25  -2.77%   0.622%\n",
       "4    2020-02-24 2020-03-24  -3.71%   1.473%\n",
       "...         ...        ...     ...      ...\n",
       "5318 1999-01-08 1999-02-08   0.79%  -0.977%\n",
       "5319 1999-01-07 1999-02-07   0.23%  -0.618%\n",
       "5320 1999-01-06 1999-02-06   3.09%   0.532%\n",
       "5321 1999-01-05 1999-02-05   1.96%  -0.442%\n",
       "5322 1999-01-04 1999-02-04   0.70%  -0.352%\n",
       "\n",
       "[5323 rows x 4 columns]"
      ]
     },
     "execution_count": 43,
     "metadata": {},
     "output_type": "execute_result"
    }
   ],
   "source": [
    "dataSum.loc[dataSum['Date'] >= qqq['Date'].min()]"
   ]
  },
  {
   "cell_type": "code",
   "execution_count": 44,
   "metadata": {},
   "outputs": [
    {
     "data": {
      "text/html": [
       "<div>\n",
       "<style scoped>\n",
       "    .dataframe tbody tr th:only-of-type {\n",
       "        vertical-align: middle;\n",
       "    }\n",
       "\n",
       "    .dataframe tbody tr th {\n",
       "        vertical-align: top;\n",
       "    }\n",
       "\n",
       "    .dataframe thead th {\n",
       "        text-align: right;\n",
       "    }\n",
       "</style>\n",
       "<table border=\"1\" class=\"dataframe\">\n",
       "  <thead>\n",
       "    <tr style=\"text-align: right;\">\n",
       "      <th></th>\n",
       "      <th>Date</th>\n",
       "      <th>Date_1m</th>\n",
       "      <th>qqqR</th>\n",
       "      <th>tltR</th>\n",
       "    </tr>\n",
       "  </thead>\n",
       "  <tbody>\n",
       "    <tr>\n",
       "      <td>count</td>\n",
       "      <td>8515</td>\n",
       "      <td>5323</td>\n",
       "      <td>8515.0</td>\n",
       "      <td>8515</td>\n",
       "    </tr>\n",
       "    <tr>\n",
       "      <td>unique</td>\n",
       "      <td>8515</td>\n",
       "      <td>5240</td>\n",
       "      <td>811.0</td>\n",
       "      <td>2401</td>\n",
       "    </tr>\n",
       "    <tr>\n",
       "      <td>top</td>\n",
       "      <td>1989-12-27 00:00:00</td>\n",
       "      <td>2003-02-28 00:00:00</td>\n",
       "      <td>0.0</td>\n",
       "      <td>0.000%</td>\n",
       "    </tr>\n",
       "    <tr>\n",
       "      <td>freq</td>\n",
       "      <td>1</td>\n",
       "      <td>4</td>\n",
       "      <td>3192.0</td>\n",
       "      <td>619</td>\n",
       "    </tr>\n",
       "    <tr>\n",
       "      <td>first</td>\n",
       "      <td>1986-05-19 00:00:00</td>\n",
       "      <td>1999-02-04 00:00:00</td>\n",
       "      <td>NaN</td>\n",
       "      <td>NaN</td>\n",
       "    </tr>\n",
       "    <tr>\n",
       "      <td>last</td>\n",
       "      <td>2020-02-28 00:00:00</td>\n",
       "      <td>2020-03-28 00:00:00</td>\n",
       "      <td>NaN</td>\n",
       "      <td>NaN</td>\n",
       "    </tr>\n",
       "  </tbody>\n",
       "</table>\n",
       "</div>"
      ],
      "text/plain": [
       "                       Date              Date_1m    qqqR    tltR\n",
       "count                  8515                 5323  8515.0    8515\n",
       "unique                 8515                 5240   811.0    2401\n",
       "top     1989-12-27 00:00:00  2003-02-28 00:00:00     0.0  0.000%\n",
       "freq                      1                    4  3192.0     619\n",
       "first   1986-05-19 00:00:00  1999-02-04 00:00:00     NaN     NaN\n",
       "last    2020-02-28 00:00:00  2020-03-28 00:00:00     NaN     NaN"
      ]
     },
     "execution_count": 44,
     "metadata": {},
     "output_type": "execute_result"
    }
   ],
   "source": [
    "dataSum.loc[dataSum['qqqR'].isnull(), 'qqqR'] = 0\n",
    "dataSum.loc[dataSum['tltR'].isnull(), 'tltR'] = 0\n",
    "dataSum.describe()"
   ]
  },
  {
   "cell_type": "code",
   "execution_count": 45,
   "metadata": {},
   "outputs": [],
   "source": [
    "dataSum['qqqR'] = dataSum['qqqR'].str.replace('%','').astype(np.float64)"
   ]
  },
  {
   "cell_type": "code",
   "execution_count": 46,
   "metadata": {},
   "outputs": [],
   "source": [
    "dataSum['tltR'] = dataSum['tltR'].str.replace('%','').astype(np.float64)"
   ]
  },
  {
   "cell_type": "code",
   "execution_count": 47,
   "metadata": {},
   "outputs": [
    {
     "data": {
      "text/html": [
       "<div>\n",
       "<style scoped>\n",
       "    .dataframe tbody tr th:only-of-type {\n",
       "        vertical-align: middle;\n",
       "    }\n",
       "\n",
       "    .dataframe tbody tr th {\n",
       "        vertical-align: top;\n",
       "    }\n",
       "\n",
       "    .dataframe thead th {\n",
       "        text-align: right;\n",
       "    }\n",
       "</style>\n",
       "<table border=\"1\" class=\"dataframe\">\n",
       "  <thead>\n",
       "    <tr style=\"text-align: right;\">\n",
       "      <th></th>\n",
       "      <th>Date</th>\n",
       "      <th>Date_1m</th>\n",
       "      <th>qqqR</th>\n",
       "      <th>tltR</th>\n",
       "    </tr>\n",
       "  </thead>\n",
       "  <tbody>\n",
       "    <tr>\n",
       "      <td>0</td>\n",
       "      <td>False</td>\n",
       "      <td>False</td>\n",
       "      <td>False</td>\n",
       "      <td>False</td>\n",
       "    </tr>\n",
       "    <tr>\n",
       "      <td>1</td>\n",
       "      <td>False</td>\n",
       "      <td>False</td>\n",
       "      <td>False</td>\n",
       "      <td>False</td>\n",
       "    </tr>\n",
       "    <tr>\n",
       "      <td>2</td>\n",
       "      <td>False</td>\n",
       "      <td>False</td>\n",
       "      <td>False</td>\n",
       "      <td>False</td>\n",
       "    </tr>\n",
       "    <tr>\n",
       "      <td>3</td>\n",
       "      <td>False</td>\n",
       "      <td>False</td>\n",
       "      <td>False</td>\n",
       "      <td>False</td>\n",
       "    </tr>\n",
       "    <tr>\n",
       "      <td>4</td>\n",
       "      <td>False</td>\n",
       "      <td>False</td>\n",
       "      <td>False</td>\n",
       "      <td>False</td>\n",
       "    </tr>\n",
       "    <tr>\n",
       "      <td>...</td>\n",
       "      <td>...</td>\n",
       "      <td>...</td>\n",
       "      <td>...</td>\n",
       "      <td>...</td>\n",
       "    </tr>\n",
       "    <tr>\n",
       "      <td>8510</td>\n",
       "      <td>False</td>\n",
       "      <td>True</td>\n",
       "      <td>True</td>\n",
       "      <td>False</td>\n",
       "    </tr>\n",
       "    <tr>\n",
       "      <td>8511</td>\n",
       "      <td>False</td>\n",
       "      <td>True</td>\n",
       "      <td>True</td>\n",
       "      <td>False</td>\n",
       "    </tr>\n",
       "    <tr>\n",
       "      <td>8512</td>\n",
       "      <td>False</td>\n",
       "      <td>True</td>\n",
       "      <td>True</td>\n",
       "      <td>False</td>\n",
       "    </tr>\n",
       "    <tr>\n",
       "      <td>8513</td>\n",
       "      <td>False</td>\n",
       "      <td>True</td>\n",
       "      <td>True</td>\n",
       "      <td>False</td>\n",
       "    </tr>\n",
       "    <tr>\n",
       "      <td>8514</td>\n",
       "      <td>False</td>\n",
       "      <td>True</td>\n",
       "      <td>True</td>\n",
       "      <td>False</td>\n",
       "    </tr>\n",
       "  </tbody>\n",
       "</table>\n",
       "<p>8515 rows × 4 columns</p>\n",
       "</div>"
      ],
      "text/plain": [
       "       Date  Date_1m   qqqR   tltR\n",
       "0     False    False  False  False\n",
       "1     False    False  False  False\n",
       "2     False    False  False  False\n",
       "3     False    False  False  False\n",
       "4     False    False  False  False\n",
       "...     ...      ...    ...    ...\n",
       "8510  False     True   True  False\n",
       "8511  False     True   True  False\n",
       "8512  False     True   True  False\n",
       "8513  False     True   True  False\n",
       "8514  False     True   True  False\n",
       "\n",
       "[8515 rows x 4 columns]"
      ]
     },
     "execution_count": 47,
     "metadata": {},
     "output_type": "execute_result"
    }
   ],
   "source": [
    "dataSum.isnull()"
   ]
  },
  {
   "cell_type": "code",
   "execution_count": 48,
   "metadata": {},
   "outputs": [
    {
     "data": {
      "text/plain": [
       "0       2.0323\n",
       "1       0.4093\n",
       "2      -0.4771\n",
       "3       0.2828\n",
       "4       0.9547\n",
       "         ...  \n",
       "8510       NaN\n",
       "8511       NaN\n",
       "8512       NaN\n",
       "8513       NaN\n",
       "8514       NaN\n",
       "Length: 8515, dtype: float64"
      ]
     },
     "execution_count": 48,
     "metadata": {},
     "output_type": "execute_result"
    }
   ],
   "source": [
    "# phase1\n",
    "CONFIG['phaseList'][0]['phaseQqqPosition'] * dataSum['qqqR'] + CONFIG['phaseList'][0]['phaseTltPosition'] * dataSum['tltR']"
   ]
  },
  {
   "cell_type": "code",
   "execution_count": 49,
   "metadata": {},
   "outputs": [
    {
     "data": {
      "text/plain": [
       "0       2.257\n",
       "1       0.967\n",
       "2      -0.549\n",
       "3       0.622\n",
       "4       1.473\n",
       "        ...  \n",
       "8510      NaN\n",
       "8511      NaN\n",
       "8512      NaN\n",
       "8513      NaN\n",
       "8514      NaN\n",
       "Length: 8515, dtype: float64"
      ]
     },
     "execution_count": 49,
     "metadata": {},
     "output_type": "execute_result"
    }
   ],
   "source": [
    "# phase2\n",
    "CONFIG['phaseList'][1]['phaseQqqPosition'] * dataSum['qqqR'] + CONFIG['phaseList'][1]['phaseTltPosition'] * dataSum['tltR']"
   ]
  },
  {
   "cell_type": "code",
   "execution_count": 50,
   "metadata": {},
   "outputs": [
    {
     "data": {
      "text/plain": [
       "0       2.257\n",
       "1       0.967\n",
       "2      -0.549\n",
       "3       0.622\n",
       "4       1.473\n",
       "        ...  \n",
       "8510      NaN\n",
       "8511      NaN\n",
       "8512      NaN\n",
       "8513      NaN\n",
       "8514      NaN\n",
       "Length: 8515, dtype: float64"
      ]
     },
     "execution_count": 50,
     "metadata": {},
     "output_type": "execute_result"
    }
   ],
   "source": [
    "# phase3\n",
    "CONFIG['phaseList'][2]['phaseQqqPosition'] * dataSum['qqqR'] + CONFIG['phaseList'][2]['phaseTltPosition'] * dataSum['tltR']"
   ]
  },
  {
   "cell_type": "code",
   "execution_count": 51,
   "metadata": {},
   "outputs": [
    {
     "data": {
      "text/plain": [
       "0      -0.200\n",
       "1      -0.200\n",
       "2       1.002\n",
       "3      -0.198\n",
       "4       0.199\n",
       "        ...  \n",
       "8510      NaN\n",
       "8511      NaN\n",
       "8512      NaN\n",
       "8513      NaN\n",
       "8514      NaN\n",
       "Name: R, Length: 8515, dtype: float64"
      ]
     },
     "execution_count": 51,
     "metadata": {},
     "output_type": "execute_result"
    }
   ],
   "source": [
    "#phase2\n",
    "CONFIG['phaseList'][1]['phaseQqqPosition']*qqq['R'] + CONFIG['phaseList'][1]['phaseTltPosition']*tlt['R']"
   ]
  },
  {
   "cell_type": "code",
   "execution_count": 52,
   "metadata": {},
   "outputs": [
    {
     "data": {
      "text/plain": [
       "0      -0.200\n",
       "1      -0.200\n",
       "2       1.002\n",
       "3      -0.198\n",
       "4       0.199\n",
       "        ...  \n",
       "8510      NaN\n",
       "8511      NaN\n",
       "8512      NaN\n",
       "8513      NaN\n",
       "8514      NaN\n",
       "Name: R, Length: 8515, dtype: float64"
      ]
     },
     "execution_count": 52,
     "metadata": {},
     "output_type": "execute_result"
    }
   ],
   "source": [
    "#phase3\n",
    "CONFIG['phaseList'][2]['phaseQqqPosition']*qqq['R'] + CONFIG['phaseList'][2]['phaseTltPosition']*tlt['R']"
   ]
  },
  {
   "cell_type": "code",
   "execution_count": 53,
   "metadata": {},
   "outputs": [
    {
     "data": {
      "text/plain": [
       "<bound method NDFrame.head of 0       0.01\n",
       "1      -4.61\n",
       "2       0.17\n",
       "3      -2.77\n",
       "4      -3.71\n",
       "        ... \n",
       "5318    0.79\n",
       "5319    0.23\n",
       "5320    3.09\n",
       "5321    1.96\n",
       "5322    0.70\n",
       "Name: R, Length: 5323, dtype: float64>"
      ]
     },
     "execution_count": 53,
     "metadata": {},
     "output_type": "execute_result"
    }
   ],
   "source": [
    "qqq['R'].head"
   ]
  },
  {
   "cell_type": "code",
   "execution_count": 54,
   "metadata": {},
   "outputs": [
    {
     "data": {
      "text/plain": [
       "<bound method NDFrame.head of 0      -0.200\n",
       "1      -0.200\n",
       "2       1.002\n",
       "3      -0.198\n",
       "4       0.199\n",
       "        ...  \n",
       "8510    1.473\n",
       "8511    0.622\n",
       "8512   -0.549\n",
       "8513    0.967\n",
       "8514    2.257\n",
       "Name: R, Length: 8515, dtype: float64>"
      ]
     },
     "execution_count": 54,
     "metadata": {},
     "output_type": "execute_result"
    }
   ],
   "source": [
    "tlt['R'].head"
   ]
  },
  {
   "cell_type": "code",
   "execution_count": 55,
   "metadata": {},
   "outputs": [],
   "source": [
    "sum = qqq['R'] + tlt['R']"
   ]
  },
  {
   "cell_type": "code",
   "execution_count": 56,
   "metadata": {},
   "outputs": [
    {
     "data": {
      "text/plain": [
       "0   -0.190\n",
       "1   -4.810\n",
       "2    1.172\n",
       "3   -2.968\n",
       "4   -3.511\n",
       "Name: R, dtype: float64"
      ]
     },
     "execution_count": 56,
     "metadata": {},
     "output_type": "execute_result"
    }
   ],
   "source": [
    "sum.head()"
   ]
  },
  {
   "cell_type": "code",
   "execution_count": 57,
   "metadata": {},
   "outputs": [],
   "source": [
    "import random"
   ]
  },
  {
   "cell_type": "code",
   "execution_count": 58,
   "metadata": {},
   "outputs": [],
   "source": [
    "random.random()\n",
    "test1 = range(dataSum.shape[0])"
   ]
  },
  {
   "cell_type": "code",
   "execution_count": 59,
   "metadata": {},
   "outputs": [
    {
     "data": {
      "text/plain": [
       "8515"
      ]
     },
     "execution_count": 59,
     "metadata": {},
     "output_type": "execute_result"
    }
   ],
   "source": [
    "len(test1)"
   ]
  },
  {
   "cell_type": "code",
   "execution_count": 60,
   "metadata": {},
   "outputs": [
    {
     "ename": "ValueError",
     "evalue": "Length of values does not match length of index",
     "output_type": "error",
     "traceback": [
      "\u001b[1;31m---------------------------------------------------------------------------\u001b[0m",
      "\u001b[1;31mValueError\u001b[0m                                Traceback (most recent call last)",
      "\u001b[1;32m<ipython-input-60-bacc7caac095>\u001b[0m in \u001b[0;36m<module>\u001b[1;34m\u001b[0m\n\u001b[1;32m----> 1\u001b[1;33m \u001b[0mdataSum\u001b[0m\u001b[1;33m[\u001b[0m\u001b[1;34m'phase'\u001b[0m\u001b[1;33m]\u001b[0m \u001b[1;33m=\u001b[0m \u001b[0mphase\u001b[0m\u001b[1;33m\u001b[0m\u001b[1;33m\u001b[0m\u001b[0m\n\u001b[0m",
      "\u001b[1;32m~\\Anaconda3\\lib\\site-packages\\pandas\\core\\frame.py\u001b[0m in \u001b[0;36m__setitem__\u001b[1;34m(self, key, value)\u001b[0m\n\u001b[0;32m   3470\u001b[0m         \u001b[1;32melse\u001b[0m\u001b[1;33m:\u001b[0m\u001b[1;33m\u001b[0m\u001b[1;33m\u001b[0m\u001b[0m\n\u001b[0;32m   3471\u001b[0m             \u001b[1;31m# set column\u001b[0m\u001b[1;33m\u001b[0m\u001b[1;33m\u001b[0m\u001b[1;33m\u001b[0m\u001b[0m\n\u001b[1;32m-> 3472\u001b[1;33m             \u001b[0mself\u001b[0m\u001b[1;33m.\u001b[0m\u001b[0m_set_item\u001b[0m\u001b[1;33m(\u001b[0m\u001b[0mkey\u001b[0m\u001b[1;33m,\u001b[0m \u001b[0mvalue\u001b[0m\u001b[1;33m)\u001b[0m\u001b[1;33m\u001b[0m\u001b[1;33m\u001b[0m\u001b[0m\n\u001b[0m\u001b[0;32m   3473\u001b[0m \u001b[1;33m\u001b[0m\u001b[0m\n\u001b[0;32m   3474\u001b[0m     \u001b[1;32mdef\u001b[0m \u001b[0m_setitem_slice\u001b[0m\u001b[1;33m(\u001b[0m\u001b[0mself\u001b[0m\u001b[1;33m,\u001b[0m \u001b[0mkey\u001b[0m\u001b[1;33m,\u001b[0m \u001b[0mvalue\u001b[0m\u001b[1;33m)\u001b[0m\u001b[1;33m:\u001b[0m\u001b[1;33m\u001b[0m\u001b[1;33m\u001b[0m\u001b[0m\n",
      "\u001b[1;32m~\\Anaconda3\\lib\\site-packages\\pandas\\core\\frame.py\u001b[0m in \u001b[0;36m_set_item\u001b[1;34m(self, key, value)\u001b[0m\n\u001b[0;32m   3547\u001b[0m \u001b[1;33m\u001b[0m\u001b[0m\n\u001b[0;32m   3548\u001b[0m         \u001b[0mself\u001b[0m\u001b[1;33m.\u001b[0m\u001b[0m_ensure_valid_index\u001b[0m\u001b[1;33m(\u001b[0m\u001b[0mvalue\u001b[0m\u001b[1;33m)\u001b[0m\u001b[1;33m\u001b[0m\u001b[1;33m\u001b[0m\u001b[0m\n\u001b[1;32m-> 3549\u001b[1;33m         \u001b[0mvalue\u001b[0m \u001b[1;33m=\u001b[0m \u001b[0mself\u001b[0m\u001b[1;33m.\u001b[0m\u001b[0m_sanitize_column\u001b[0m\u001b[1;33m(\u001b[0m\u001b[0mkey\u001b[0m\u001b[1;33m,\u001b[0m \u001b[0mvalue\u001b[0m\u001b[1;33m)\u001b[0m\u001b[1;33m\u001b[0m\u001b[1;33m\u001b[0m\u001b[0m\n\u001b[0m\u001b[0;32m   3550\u001b[0m         \u001b[0mNDFrame\u001b[0m\u001b[1;33m.\u001b[0m\u001b[0m_set_item\u001b[0m\u001b[1;33m(\u001b[0m\u001b[0mself\u001b[0m\u001b[1;33m,\u001b[0m \u001b[0mkey\u001b[0m\u001b[1;33m,\u001b[0m \u001b[0mvalue\u001b[0m\u001b[1;33m)\u001b[0m\u001b[1;33m\u001b[0m\u001b[1;33m\u001b[0m\u001b[0m\n\u001b[0;32m   3551\u001b[0m \u001b[1;33m\u001b[0m\u001b[0m\n",
      "\u001b[1;32m~\\Anaconda3\\lib\\site-packages\\pandas\\core\\frame.py\u001b[0m in \u001b[0;36m_sanitize_column\u001b[1;34m(self, key, value, broadcast)\u001b[0m\n\u001b[0;32m   3732\u001b[0m \u001b[1;33m\u001b[0m\u001b[0m\n\u001b[0;32m   3733\u001b[0m             \u001b[1;31m# turn me into an ndarray\u001b[0m\u001b[1;33m\u001b[0m\u001b[1;33m\u001b[0m\u001b[1;33m\u001b[0m\u001b[0m\n\u001b[1;32m-> 3734\u001b[1;33m             \u001b[0mvalue\u001b[0m \u001b[1;33m=\u001b[0m \u001b[0msanitize_index\u001b[0m\u001b[1;33m(\u001b[0m\u001b[0mvalue\u001b[0m\u001b[1;33m,\u001b[0m \u001b[0mself\u001b[0m\u001b[1;33m.\u001b[0m\u001b[0mindex\u001b[0m\u001b[1;33m,\u001b[0m \u001b[0mcopy\u001b[0m\u001b[1;33m=\u001b[0m\u001b[1;32mFalse\u001b[0m\u001b[1;33m)\u001b[0m\u001b[1;33m\u001b[0m\u001b[1;33m\u001b[0m\u001b[0m\n\u001b[0m\u001b[0;32m   3735\u001b[0m             \u001b[1;32mif\u001b[0m \u001b[1;32mnot\u001b[0m \u001b[0misinstance\u001b[0m\u001b[1;33m(\u001b[0m\u001b[0mvalue\u001b[0m\u001b[1;33m,\u001b[0m \u001b[1;33m(\u001b[0m\u001b[0mnp\u001b[0m\u001b[1;33m.\u001b[0m\u001b[0mndarray\u001b[0m\u001b[1;33m,\u001b[0m \u001b[0mIndex\u001b[0m\u001b[1;33m)\u001b[0m\u001b[1;33m)\u001b[0m\u001b[1;33m:\u001b[0m\u001b[1;33m\u001b[0m\u001b[1;33m\u001b[0m\u001b[0m\n\u001b[0;32m   3736\u001b[0m                 \u001b[1;32mif\u001b[0m \u001b[0misinstance\u001b[0m\u001b[1;33m(\u001b[0m\u001b[0mvalue\u001b[0m\u001b[1;33m,\u001b[0m \u001b[0mlist\u001b[0m\u001b[1;33m)\u001b[0m \u001b[1;32mand\u001b[0m \u001b[0mlen\u001b[0m\u001b[1;33m(\u001b[0m\u001b[0mvalue\u001b[0m\u001b[1;33m)\u001b[0m \u001b[1;33m>\u001b[0m \u001b[1;36m0\u001b[0m\u001b[1;33m:\u001b[0m\u001b[1;33m\u001b[0m\u001b[1;33m\u001b[0m\u001b[0m\n",
      "\u001b[1;32m~\\Anaconda3\\lib\\site-packages\\pandas\\core\\internals\\construction.py\u001b[0m in \u001b[0;36msanitize_index\u001b[1;34m(data, index, copy)\u001b[0m\n\u001b[0;32m    610\u001b[0m \u001b[1;33m\u001b[0m\u001b[0m\n\u001b[0;32m    611\u001b[0m     \u001b[1;32mif\u001b[0m \u001b[0mlen\u001b[0m\u001b[1;33m(\u001b[0m\u001b[0mdata\u001b[0m\u001b[1;33m)\u001b[0m \u001b[1;33m!=\u001b[0m \u001b[0mlen\u001b[0m\u001b[1;33m(\u001b[0m\u001b[0mindex\u001b[0m\u001b[1;33m)\u001b[0m\u001b[1;33m:\u001b[0m\u001b[1;33m\u001b[0m\u001b[1;33m\u001b[0m\u001b[0m\n\u001b[1;32m--> 612\u001b[1;33m         \u001b[1;32mraise\u001b[0m \u001b[0mValueError\u001b[0m\u001b[1;33m(\u001b[0m\u001b[1;34m\"Length of values does not match length of index\"\u001b[0m\u001b[1;33m)\u001b[0m\u001b[1;33m\u001b[0m\u001b[1;33m\u001b[0m\u001b[0m\n\u001b[0m\u001b[0;32m    613\u001b[0m \u001b[1;33m\u001b[0m\u001b[0m\n\u001b[0;32m    614\u001b[0m     \u001b[1;32mif\u001b[0m \u001b[0misinstance\u001b[0m\u001b[1;33m(\u001b[0m\u001b[0mdata\u001b[0m\u001b[1;33m,\u001b[0m \u001b[0mABCIndexClass\u001b[0m\u001b[1;33m)\u001b[0m \u001b[1;32mand\u001b[0m \u001b[1;32mnot\u001b[0m \u001b[0mcopy\u001b[0m\u001b[1;33m:\u001b[0m\u001b[1;33m\u001b[0m\u001b[1;33m\u001b[0m\u001b[0m\n",
      "\u001b[1;31mValueError\u001b[0m: Length of values does not match length of index"
     ]
    }
   ],
   "source": [
    "dataSum['phase'] = phase"
   ]
  },
  {
   "cell_type": "code",
   "execution_count": null,
   "metadata": {},
   "outputs": [],
   "source": [
    "dataSum.describe()"
   ]
  },
  {
   "cell_type": "code",
   "execution_count": null,
   "metadata": {},
   "outputs": [],
   "source": [
    "print(test1)"
   ]
  },
  {
   "cell_type": "code",
   "execution_count": null,
   "metadata": {},
   "outputs": [],
   "source": [
    "phase = []\n",
    "for i in test1:\n",
    "    dataSum['phase2'] = dataSum['phase'].iloc[i] = int(random.random()*3)\n",
    "    \n"
   ]
  },
  {
   "cell_type": "code",
   "execution_count": null,
   "metadata": {},
   "outputs": [],
   "source": [
    "dataSum['phase3'].iloc[0] = 5"
   ]
  },
  {
   "cell_type": "code",
   "execution_count": null,
   "metadata": {},
   "outputs": [],
   "source": [
    "dataSum.head()"
   ]
  },
  {
   "cell_type": "code",
   "execution_count": null,
   "metadata": {},
   "outputs": [],
   "source": [
    "dataSum.shape[0]"
   ]
  },
  {
   "cell_type": "code",
   "execution_count": 69,
   "metadata": {},
   "outputs": [
    {
     "ename": "SyntaxError",
     "evalue": "invalid syntax (<ipython-input-69-d96bfafc9412>, line 3)",
     "output_type": "error",
     "traceback": [
      "\u001b[1;36m  File \u001b[1;32m\"<ipython-input-69-d96bfafc9412>\"\u001b[1;36m, line \u001b[1;32m3\u001b[0m\n\u001b[1;33m    for i in CONFIG['phaseList']:\u001b[0m\n\u001b[1;37m      ^\u001b[0m\n\u001b[1;31mSyntaxError\u001b[0m\u001b[1;31m:\u001b[0m invalid syntax\n"
     ]
    }
   ],
   "source": [
    "for i in dataSum['phase']:\n",
    "    [\n",
    "    for i in CONFIG['phaseList']:\n",
    "        if phase == i:\n",
    "            dataSum['choiceRate'].loc(i) = phaseQqqPosition * dataSum['qqqR'] + phaseTltPosition * dataSum['tltR']\n",
    "    ]"
   ]
  },
  {
   "cell_type": "code",
   "execution_count": null,
   "metadata": {},
   "outputs": [],
   "source": []
  },
  {
   "cell_type": "code",
   "execution_count": null,
   "metadata": {},
   "outputs": [],
   "source": []
  }
 ],
 "metadata": {
  "kernelspec": {
   "display_name": "Python 3",
   "language": "python",
   "name": "python3"
  },
  "language_info": {
   "codemirror_mode": {
    "name": "ipython",
    "version": 3
   },
   "file_extension": ".py",
   "mimetype": "text/x-python",
   "name": "python",
   "nbconvert_exporter": "python",
   "pygments_lexer": "ipython3",
   "version": "3.7.4"
  }
 },
 "nbformat": 4,
 "nbformat_minor": 4
}
